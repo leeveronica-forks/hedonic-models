{
 "cells": [
  {
   "cell_type": "markdown",
   "metadata": {},
   "source": [
    "## Tutorial on Hedonic Regression\n",
    "\n",
    "This material uses Python to demonstrate some aspects of hedonic regression, but the objective here is not to learn to program, but to understand the hedonic regression methodology.  We begin with an example in which we generate some synthetic data using a set of coefficients and a mathematical model, and learn those coefficients using a statistical method called multiple regression."
   ]
  },
  {
   "cell_type": "code",
   "execution_count": 5,
   "metadata": {},
   "outputs": [],
   "source": [
    "# Startup steps\n",
    "import pandas as pd, numpy as np, statsmodels.api as sm\n",
    "import matplotlib.pyplot as plt, matplotlib.cm as cm, matplotlib.font_manager as fm\n",
    "import matplotlib.mlab as mlab\n",
    "from scipy.stats import pearsonr, ttest_rel\n",
    "%matplotlib inline"
   ]
  },
  {
   "cell_type": "markdown",
   "metadata": {},
   "source": [
    "Generate data using a model we define:"
   ]
  },
  {
   "cell_type": "code",
   "execution_count": 17,
   "metadata": {},
   "outputs": [],
   "source": [
    "nsample = 100\n",
    "x = np.linspace(0, 10, nsample)\n",
    "beta = np.array([0, 2])\n",
    "e = np.random.normal(size=nsample)\n",
    "X = sm.add_constant(x)\n",
    "y = np.dot(X, beta) + e"
   ]
  },
  {
   "cell_type": "markdown",
   "metadata": {},
   "source": [
    "Plot the data and the model.  Note that the intercept is set to zero in this example initially."
   ]
  },
  {
   "cell_type": "code",
   "execution_count": 18,
   "metadata": {},
   "outputs": [
    {
     "data": {
      "image/png": "[encoded data removed]",
      "text/plain": [
       "<matplotlib.figure.Figure at 0x1126bcd68>"
      ]
     },
     "metadata": {},
     "output_type": "display_data"
    }
   ],
   "source": [
    "plt.figure(1, figsize=(10,8), )\n",
    "plt.plot([0, 10], [0, 20])\n",
    "plt.scatter(x, y, marker=0, s=10, c='g')\n",
    "plt.axis([0, 10, 0, 20])\n",
    "plt.show();"
   ]
  },
  {
   "cell_type": "code",
   "execution_count": 19,
   "metadata": {},
   "outputs": [
    {
     "name": "stdout",
     "output_type": "stream",
     "text": [
      "                            OLS Regression Results                            \n",
      "==============================================================================\n",
      "Dep. Variable:                      y   R-squared:                       0.970\n",
      "Model:                            OLS   Adj. R-squared:                  0.970\n",
      "Method:                 Least Squares   F-statistic:                     3222.\n",
      "Date:                Sat, 18 Nov 2017   Prob (F-statistic):           8.82e-77\n",
      "Time:                        15:42:59   Log-Likelihood:                -142.55\n",
      "No. Observations:                 100   AIC:                             289.1\n",
      "Df Residuals:                      98   BIC:                             294.3\n",
      "Df Model:                           1                                         \n",
      "Covariance Type:            nonrobust                                         \n",
      "==============================================================================\n",
      "                 coef    std err          t      P>|t|      [0.025      0.975]\n",
      "------------------------------------------------------------------------------\n",
      "const          0.1448      0.202      0.717      0.475      -0.256       0.545\n",
      "x1             1.9794      0.035     56.763      0.000       1.910       2.049\n",
      "==============================================================================\n",
      "Omnibus:                        1.523   Durbin-Watson:                   2.219\n",
      "Prob(Omnibus):                  0.467   Jarque-Bera (JB):                1.305\n",
      "Skew:                          -0.280   Prob(JB):                        0.521\n",
      "Kurtosis:                       2.990   Cond. No.                         11.7\n",
      "==============================================================================\n",
      "\n",
      "Warnings:\n",
      "[1] Standard Errors assume that the covariance matrix of the errors is correctly specified.\n"
     ]
    }
   ],
   "source": [
    "model = sm.OLS(y, X)\n",
    "results = model.fit()\n",
    "print(results.summary())"
   ]
  },
  {
   "cell_type": "code",
   "execution_count": 20,
   "metadata": {},
   "outputs": [
    {
     "name": "stdout",
     "output_type": "stream",
     "text": [
      "Parameters:  [ 0.14476438  1.97940716]\n",
      "R2:  0.970482747697\n"
     ]
    }
   ],
   "source": [
    "print('Parameters: ', results.params)\n",
    "print('R2: ', results.rsquared)"
   ]
  },
  {
   "cell_type": "code",
   "execution_count": 21,
   "metadata": {},
   "outputs": [],
   "source": [
    "nsample = 100\n",
    "x = np.linspace(0, 10, 100)\n",
    "X = np.column_stack((x, x**2))\n",
    "beta = np.array([1, 2, .5])\n",
    "e = np.random.normal(size=nsample)"
   ]
  },
  {
   "cell_type": "code",
   "execution_count": 22,
   "metadata": {},
   "outputs": [],
   "source": [
    "X = sm.add_constant(X)\n",
    "y = np.dot(X, beta) + e"
   ]
  },
  {
   "cell_type": "code",
   "execution_count": 23,
   "metadata": {},
   "outputs": [
    {
     "data": {
      "text/plain": [
       "array([[ 1.        ,  0.        ,  0.        ],\n",
       "       [ 1.        ,  0.1010101 ,  0.01020304],\n",
       "       [ 1.        ,  0.2020202 ,  0.04081216],\n",
       "       [ 1.        ,  0.3030303 ,  0.09182736],\n",
       "       [ 1.        ,  0.4040404 ,  0.16324865],\n",
       "       [ 1.        ,  0.50505051,  0.25507601],\n",
       "       [ 1.        ,  0.60606061,  0.36730946],\n",
       "       [ 1.        ,  0.70707071,  0.49994898],\n",
       "       [ 1.        ,  0.80808081,  0.65299459],\n",
       "       [ 1.        ,  0.90909091,  0.82644628]])"
      ]
     },
     "execution_count": 23,
     "metadata": {},
     "output_type": "execute_result"
    }
   ],
   "source": [
    "X[:10]"
   ]
  },
  {
   "cell_type": "code",
   "execution_count": 24,
   "metadata": {},
   "outputs": [
    {
     "data": {
      "text/plain": [
       "<matplotlib.collections.PathCollection at 0x112873278>"
      ]
     },
     "execution_count": 24,
     "metadata": {},
     "output_type": "execute_result"
    },
    {
     "data": {
      "image/png": "[encoded data removed]",
      "text/plain": [
       "<matplotlib.figure.Figure at 0x112816240>"
      ]
     },
     "metadata": {},
     "output_type": "display_data"
    }
   ],
   "source": [
    "plt.scatter(x,y, s=5)"
   ]
  },
  {
   "cell_type": "code",
   "execution_count": 15,
   "metadata": {},
   "outputs": [
    {
     "name": "stdout",
     "output_type": "stream",
     "text": [
      "                            OLS Regression Results                            \n",
      "==============================================================================\n",
      "Dep. Variable:                      y   R-squared:                       0.997\n",
      "Model:                            OLS   Adj. R-squared:                  0.997\n",
      "Method:                 Least Squares   F-statistic:                 1.650e+04\n",
      "Date:                Wed, 15 Nov 2017   Prob (F-statistic):          1.39e-123\n",
      "Time:                        18:13:00   Log-Likelihood:                -153.79\n",
      "No. Observations:                 100   AIC:                             313.6\n",
      "Df Residuals:                      97   BIC:                             321.4\n",
      "Df Model:                           2                                         \n",
      "Covariance Type:            nonrobust                                         \n",
      "==============================================================================\n",
      "                 coef    std err          t      P>|t|      [0.025      0.975]\n",
      "------------------------------------------------------------------------------\n",
      "const          1.1250      0.336      3.345      0.001       0.457       1.793\n",
      "x1             1.9813      0.155     12.746      0.000       1.673       2.290\n",
      "x2             0.5023      0.015     33.395      0.000       0.472       0.532\n",
      "==============================================================================\n",
      "Omnibus:                        2.131   Durbin-Watson:                   2.151\n",
      "Prob(Omnibus):                  0.345   Jarque-Bera (JB):                1.580\n",
      "Skew:                           0.102   Prob(JB):                        0.454\n",
      "Kurtosis:                       2.419   Cond. No.                         144.\n",
      "==============================================================================\n",
      "\n",
      "Warnings:\n",
      "[1] Standard Errors assume that the covariance matrix of the errors is correctly specified.\n"
     ]
    }
   ],
   "source": [
    "model = sm.OLS(y, X)\n",
    "results = model.fit()\n",
    "print(results.summary())"
   ]
  },
  {
   "cell_type": "code",
   "execution_count": null,
   "metadata": {},
   "outputs": [],
   "source": []
  },
  {
   "cell_type": "code",
   "execution_count": null,
   "metadata": {},
   "outputs": [],
   "source": []
  },
  {
   "cell_type": "code",
   "execution_count": 25,
   "metadata": {},
   "outputs": [
    {
     "data": {
      "text/plain": [
       "Index(['SALE TYPE', 'SOLD DATE', 'PROPERTY TYPE', 'ADDRESS', 'CITY', 'STATE',\n",
       "       'ZIP', 'PRICE', 'BEDS', 'BATHS', 'LOCATION', 'SQUARE FEET', 'LOT SIZE',\n",
       "       'YEAR BUILT', 'DAYS ON MARKET', '$/SQUARE FEET', 'HOA/MONTH', 'STATUS',\n",
       "       'NEXT OPEN HOUSE START TIME', 'NEXT OPEN HOUSE END TIME',\n",
       "       'URL (SEE http://www.redfin.com/buy-a-home/comparative-market-analysis FOR INFO ON PRICING)',\n",
       "       'SOURCE', 'MLS#', 'FAVORITE', 'INTERESTED', 'LATITUDE', 'LONGITUDE'],\n",
       "      dtype='object')"
      ]
     },
     "execution_count": 25,
     "metadata": {},
     "output_type": "execute_result"
    }
   ],
   "source": [
    "sf = pd.read_csv('data/redfin_2017-03-05-17-45-34-san-francisco-county-1-month.csv')\n",
    "sf.columns"
   ]
  },
  {
   "cell_type": "code",
   "execution_count": 26,
   "metadata": {},
   "outputs": [
    {
     "data": {
      "text/html": [
       "<div>\n",
       "<style scoped>\n",
       "    .dataframe tbody tr th:only-of-type {\n",
       "        vertical-align: middle;\n",
       "    }\n",
       "\n",
       "    .dataframe tbody tr th {\n",
       "        vertical-align: top;\n",
       "    }\n",
       "\n",
       "    .dataframe thead th {\n",
       "        text-align: right;\n",
       "    }\n",
       "</style>\n",
       "<table border=\"1\" class=\"dataframe\">\n",
       "  <thead>\n",
       "    <tr style=\"text-align: right;\">\n",
       "      <th></th>\n",
       "      <th>saletype</th>\n",
       "      <th>solddate</th>\n",
       "      <th>proptype</th>\n",
       "      <th>address</th>\n",
       "      <th>city</th>\n",
       "      <th>state</th>\n",
       "      <th>zip</th>\n",
       "      <th>price</th>\n",
       "      <th>beds</th>\n",
       "      <th>baths</th>\n",
       "      <th>...</th>\n",
       "      <th>status</th>\n",
       "      <th>nextopenstart</th>\n",
       "      <th>nextopenend</th>\n",
       "      <th>url</th>\n",
       "      <th>source</th>\n",
       "      <th>mls</th>\n",
       "      <th>favorite</th>\n",
       "      <th>interested</th>\n",
       "      <th>latitude</th>\n",
       "      <th>longitude</th>\n",
       "    </tr>\n",
       "  </thead>\n",
       "  <tbody>\n",
       "    <tr>\n",
       "      <th>0</th>\n",
       "      <td>PAST SALE</td>\n",
       "      <td>February-7-2017</td>\n",
       "      <td>Single Family Residential</td>\n",
       "      <td>521 Cayuga Ave</td>\n",
       "      <td>San Francisco</td>\n",
       "      <td>CA</td>\n",
       "      <td>94112.0</td>\n",
       "      <td>1200000.0</td>\n",
       "      <td>2.0</td>\n",
       "      <td>1.25</td>\n",
       "      <td>...</td>\n",
       "      <td>Sold</td>\n",
       "      <td>NaN</td>\n",
       "      <td>NaN</td>\n",
       "      <td>http://www.redfin.com/CA/San-Francisco/521-Cay...</td>\n",
       "      <td>San Francisco MLS</td>\n",
       "      <td>453167</td>\n",
       "      <td>N</td>\n",
       "      <td>Y</td>\n",
       "      <td>37.728860</td>\n",
       "      <td>-122.435308</td>\n",
       "    </tr>\n",
       "    <tr>\n",
       "      <th>1</th>\n",
       "      <td>PAST SALE</td>\n",
       "      <td>February-10-2017</td>\n",
       "      <td>Condo/Co-op</td>\n",
       "      <td>95 Red Rock Way Unit 105M</td>\n",
       "      <td>San Francisco</td>\n",
       "      <td>CA</td>\n",
       "      <td>94131.0</td>\n",
       "      <td>590000.0</td>\n",
       "      <td>0.0</td>\n",
       "      <td>1.00</td>\n",
       "      <td>...</td>\n",
       "      <td>Sold</td>\n",
       "      <td>NaN</td>\n",
       "      <td>NaN</td>\n",
       "      <td>http://www.redfin.com/CA/San-Francisco/95-Red-...</td>\n",
       "      <td>San Francisco MLS</td>\n",
       "      <td>452726</td>\n",
       "      <td>N</td>\n",
       "      <td>Y</td>\n",
       "      <td>37.746324</td>\n",
       "      <td>-122.441517</td>\n",
       "    </tr>\n",
       "    <tr>\n",
       "      <th>2</th>\n",
       "      <td>PAST SALE</td>\n",
       "      <td>February-10-2017</td>\n",
       "      <td>Single Family Residential</td>\n",
       "      <td>3157 Baker St</td>\n",
       "      <td>San Francisco</td>\n",
       "      <td>CA</td>\n",
       "      <td>94123.0</td>\n",
       "      <td>3260000.0</td>\n",
       "      <td>5.0</td>\n",
       "      <td>3.50</td>\n",
       "      <td>...</td>\n",
       "      <td>Sold</td>\n",
       "      <td>NaN</td>\n",
       "      <td>NaN</td>\n",
       "      <td>http://www.redfin.com/CA/San-Francisco/3157-Ba...</td>\n",
       "      <td>San Francisco MLS</td>\n",
       "      <td>451943</td>\n",
       "      <td>N</td>\n",
       "      <td>Y</td>\n",
       "      <td>37.800218</td>\n",
       "      <td>-122.446455</td>\n",
       "    </tr>\n",
       "    <tr>\n",
       "      <th>3</th>\n",
       "      <td>PAST SALE</td>\n",
       "      <td>February-17-2017</td>\n",
       "      <td>Single Family Residential</td>\n",
       "      <td>2594 San Jose Ave</td>\n",
       "      <td>San Francisco</td>\n",
       "      <td>CA</td>\n",
       "      <td>94112.0</td>\n",
       "      <td>920000.0</td>\n",
       "      <td>3.0</td>\n",
       "      <td>2.00</td>\n",
       "      <td>...</td>\n",
       "      <td>Sold</td>\n",
       "      <td>NaN</td>\n",
       "      <td>NaN</td>\n",
       "      <td>http://www.redfin.com/CA/San-Francisco/2594-Sa...</td>\n",
       "      <td>MetroList</td>\n",
       "      <td>16067859</td>\n",
       "      <td>N</td>\n",
       "      <td>Y</td>\n",
       "      <td>37.716435</td>\n",
       "      <td>-122.450444</td>\n",
       "    </tr>\n",
       "    <tr>\n",
       "      <th>4</th>\n",
       "      <td>PAST SALE</td>\n",
       "      <td>February-27-2017</td>\n",
       "      <td>Single Family Residential</td>\n",
       "      <td>130 Brazil Ave</td>\n",
       "      <td>SAN FRANCISCO</td>\n",
       "      <td>CA</td>\n",
       "      <td>94112.0</td>\n",
       "      <td>790000.0</td>\n",
       "      <td>2.0</td>\n",
       "      <td>1.00</td>\n",
       "      <td>...</td>\n",
       "      <td>Sold</td>\n",
       "      <td>NaN</td>\n",
       "      <td>NaN</td>\n",
       "      <td>http://www.redfin.com/CA/San-Francisco/130-Bra...</td>\n",
       "      <td>MLSListings</td>\n",
       "      <td>ML81635907</td>\n",
       "      <td>N</td>\n",
       "      <td>Y</td>\n",
       "      <td>37.723920</td>\n",
       "      <td>-122.433735</td>\n",
       "    </tr>\n",
       "  </tbody>\n",
       "</table>\n",
       "<p>5 rows × 27 columns</p>\n",
       "</div>"
      ],
      "text/plain": [
       "    saletype          solddate                   proptype  \\\n",
       "0  PAST SALE   February-7-2017  Single Family Residential   \n",
       "1  PAST SALE  February-10-2017                Condo/Co-op   \n",
       "2  PAST SALE  February-10-2017  Single Family Residential   \n",
       "3  PAST SALE  February-17-2017  Single Family Residential   \n",
       "4  PAST SALE  February-27-2017  Single Family Residential   \n",
       "\n",
       "                     address           city state      zip      price  beds  \\\n",
       "0             521 Cayuga Ave  San Francisco    CA  94112.0  1200000.0   2.0   \n",
       "1  95 Red Rock Way Unit 105M  San Francisco    CA  94131.0   590000.0   0.0   \n",
       "2              3157 Baker St  San Francisco    CA  94123.0  3260000.0   5.0   \n",
       "3          2594 San Jose Ave  San Francisco    CA  94112.0   920000.0   3.0   \n",
       "4             130 Brazil Ave  SAN FRANCISCO    CA  94112.0   790000.0   2.0   \n",
       "\n",
       "   baths     ...     status  nextopenstart  nextopenend  \\\n",
       "0   1.25     ...       Sold            NaN          NaN   \n",
       "1   1.00     ...       Sold            NaN          NaN   \n",
       "2   3.50     ...       Sold            NaN          NaN   \n",
       "3   2.00     ...       Sold            NaN          NaN   \n",
       "4   1.00     ...       Sold            NaN          NaN   \n",
       "\n",
       "                                                 url             source  \\\n",
       "0  http://www.redfin.com/CA/San-Francisco/521-Cay...  San Francisco MLS   \n",
       "1  http://www.redfin.com/CA/San-Francisco/95-Red-...  San Francisco MLS   \n",
       "2  http://www.redfin.com/CA/San-Francisco/3157-Ba...  San Francisco MLS   \n",
       "3  http://www.redfin.com/CA/San-Francisco/2594-Sa...          MetroList   \n",
       "4  http://www.redfin.com/CA/San-Francisco/130-Bra...        MLSListings   \n",
       "\n",
       "          mls  favorite interested   latitude   longitude  \n",
       "0      453167         N          Y  37.728860 -122.435308  \n",
       "1      452726         N          Y  37.746324 -122.441517  \n",
       "2      451943         N          Y  37.800218 -122.446455  \n",
       "3    16067859         N          Y  37.716435 -122.450444  \n",
       "4  ML81635907         N          Y  37.723920 -122.433735  \n",
       "\n",
       "[5 rows x 27 columns]"
      ]
     },
     "execution_count": 26,
     "metadata": {},
     "output_type": "execute_result"
    }
   ],
   "source": [
    "sf1 = sf.rename(index=str, columns={'SALE TYPE': 'saletype',\n",
    "    'SOLD DATE': 'solddate', 'PROPERTY TYPE': 'proptype', 'ADDRESS': 'address',\n",
    "    'CITY': 'city', 'STATE': 'state', 'ZIP': 'zip', 'PRICE': 'price', 'BEDS': 'beds',\n",
    "    'BATHS': 'baths', 'LOCATION': 'location', 'SQUARE FEET': 'sqft', 'LOT SIZE': 'lotsize',\n",
    "    'YEAR BUILT': 'yrbuilt', 'DAYS ON MARKET': 'daysonmkt', '$/SQUARE FEET': 'pricesqft',\n",
    "    'LATITUDE': 'latitude', 'LONGITUDE': 'longitude', 'HOA/MONTH': 'hoamonth',\n",
    "    'URL (SEE http://www.redfin.com/buy-a-home/comparative-market-analysis FOR INFO ON PRICING)': 'url',\n",
    "    'STATUS': 'status', 'NEXT OPEN HOUSE START TIME': 'nextopenstart', 'NEXT OPEN HOUSE END TIME': 'nextopenend',\n",
    "    'SOURCE': 'source', 'MLS#': 'mls', 'FAVORITE': 'favorite', 'INTERESTED': 'interested'\n",
    "    })\n",
    "\n",
    "sf1.head()"
   ]
  },
  {
   "cell_type": "code",
   "execution_count": 27,
   "metadata": {},
   "outputs": [
    {
     "data": {
      "text/html": [
       "<div>\n",
       "<style scoped>\n",
       "    .dataframe tbody tr th:only-of-type {\n",
       "        vertical-align: middle;\n",
       "    }\n",
       "\n",
       "    .dataframe tbody tr th {\n",
       "        vertical-align: top;\n",
       "    }\n",
       "\n",
       "    .dataframe thead th {\n",
       "        text-align: right;\n",
       "    }\n",
       "</style>\n",
       "<table border=\"1\" class=\"dataframe\">\n",
       "  <thead>\n",
       "    <tr style=\"text-align: right;\">\n",
       "      <th></th>\n",
       "      <th>zip</th>\n",
       "      <th>price</th>\n",
       "      <th>beds</th>\n",
       "      <th>baths</th>\n",
       "      <th>sqft</th>\n",
       "      <th>lotsize</th>\n",
       "      <th>yrbuilt</th>\n",
       "      <th>daysonmkt</th>\n",
       "      <th>pricesqft</th>\n",
       "      <th>hoamonth</th>\n",
       "      <th>nextopenstart</th>\n",
       "      <th>nextopenend</th>\n",
       "      <th>latitude</th>\n",
       "      <th>longitude</th>\n",
       "    </tr>\n",
       "  </thead>\n",
       "  <tbody>\n",
       "    <tr>\n",
       "      <th>count</th>\n",
       "      <td>308.000000</td>\n",
       "      <td>3.080000e+02</td>\n",
       "      <td>301.000000</td>\n",
       "      <td>293.000000</td>\n",
       "      <td>266.000000</td>\n",
       "      <td>139.000000</td>\n",
       "      <td>288.000000</td>\n",
       "      <td>306.00000</td>\n",
       "      <td>264.000000</td>\n",
       "      <td>159.000000</td>\n",
       "      <td>0.0</td>\n",
       "      <td>0.0</td>\n",
       "      <td>309.000000</td>\n",
       "      <td>309.000000</td>\n",
       "    </tr>\n",
       "    <tr>\n",
       "      <th>mean</th>\n",
       "      <td>93888.253247</td>\n",
       "      <td>1.521055e+06</td>\n",
       "      <td>2.647841</td>\n",
       "      <td>1.880546</td>\n",
       "      <td>1662.593985</td>\n",
       "      <td>3194.935252</td>\n",
       "      <td>1952.006944</td>\n",
       "      <td>14.30719</td>\n",
       "      <td>949.905303</td>\n",
       "      <td>543.874214</td>\n",
       "      <td>NaN</td>\n",
       "      <td>NaN</td>\n",
       "      <td>37.760820</td>\n",
       "      <td>-122.431289</td>\n",
       "    </tr>\n",
       "    <tr>\n",
       "      <th>std</th>\n",
       "      <td>2820.378426</td>\n",
       "      <td>1.063400e+06</td>\n",
       "      <td>1.862499</td>\n",
       "      <td>0.896519</td>\n",
       "      <td>1169.031917</td>\n",
       "      <td>4656.050424</td>\n",
       "      <td>39.950230</td>\n",
       "      <td>8.87308</td>\n",
       "      <td>279.135062</td>\n",
       "      <td>436.562243</td>\n",
       "      <td>NaN</td>\n",
       "      <td>NaN</td>\n",
       "      <td>0.025052</td>\n",
       "      <td>0.027834</td>\n",
       "    </tr>\n",
       "    <tr>\n",
       "      <th>min</th>\n",
       "      <td>59059.000000</td>\n",
       "      <td>3.500000e+03</td>\n",
       "      <td>0.000000</td>\n",
       "      <td>1.000000</td>\n",
       "      <td>300.000000</td>\n",
       "      <td>611.000000</td>\n",
       "      <td>1885.000000</td>\n",
       "      <td>2.00000</td>\n",
       "      <td>339.000000</td>\n",
       "      <td>4.000000</td>\n",
       "      <td>NaN</td>\n",
       "      <td>NaN</td>\n",
       "      <td>37.709249</td>\n",
       "      <td>-122.510730</td>\n",
       "    </tr>\n",
       "    <tr>\n",
       "      <th>25%</th>\n",
       "      <td>94109.000000</td>\n",
       "      <td>8.787500e+05</td>\n",
       "      <td>2.000000</td>\n",
       "      <td>1.000000</td>\n",
       "      <td>978.750000</td>\n",
       "      <td>2319.500000</td>\n",
       "      <td>1916.750000</td>\n",
       "      <td>6.00000</td>\n",
       "      <td>773.750000</td>\n",
       "      <td>342.500000</td>\n",
       "      <td>NaN</td>\n",
       "      <td>NaN</td>\n",
       "      <td>37.739065</td>\n",
       "      <td>-122.443876</td>\n",
       "    </tr>\n",
       "    <tr>\n",
       "      <th>50%</th>\n",
       "      <td>94114.000000</td>\n",
       "      <td>1.271000e+06</td>\n",
       "      <td>2.000000</td>\n",
       "      <td>2.000000</td>\n",
       "      <td>1360.000000</td>\n",
       "      <td>2513.000000</td>\n",
       "      <td>1941.000000</td>\n",
       "      <td>12.00000</td>\n",
       "      <td>963.500000</td>\n",
       "      <td>473.000000</td>\n",
       "      <td>NaN</td>\n",
       "      <td>NaN</td>\n",
       "      <td>37.762549</td>\n",
       "      <td>-122.428527</td>\n",
       "    </tr>\n",
       "    <tr>\n",
       "      <th>75%</th>\n",
       "      <td>94122.000000</td>\n",
       "      <td>1.813750e+06</td>\n",
       "      <td>3.000000</td>\n",
       "      <td>2.000000</td>\n",
       "      <td>1904.750000</td>\n",
       "      <td>3090.000000</td>\n",
       "      <td>1996.000000</td>\n",
       "      <td>23.00000</td>\n",
       "      <td>1106.000000</td>\n",
       "      <td>683.000000</td>\n",
       "      <td>NaN</td>\n",
       "      <td>NaN</td>\n",
       "      <td>37.781520</td>\n",
       "      <td>-122.412238</td>\n",
       "    </tr>\n",
       "    <tr>\n",
       "      <th>max</th>\n",
       "      <td>94158.000000</td>\n",
       "      <td>1.025000e+07</td>\n",
       "      <td>18.000000</td>\n",
       "      <td>5.500000</td>\n",
       "      <td>9504.000000</td>\n",
       "      <td>56024.000000</td>\n",
       "      <td>2017.000000</td>\n",
       "      <td>30.00000</td>\n",
       "      <td>2053.000000</td>\n",
       "      <td>4413.000000</td>\n",
       "      <td>NaN</td>\n",
       "      <td>NaN</td>\n",
       "      <td>37.805816</td>\n",
       "      <td>-122.371007</td>\n",
       "    </tr>\n",
       "  </tbody>\n",
       "</table>\n",
       "</div>"
      ],
      "text/plain": [
       "                zip         price        beds       baths         sqft  \\\n",
       "count    308.000000  3.080000e+02  301.000000  293.000000   266.000000   \n",
       "mean   93888.253247  1.521055e+06    2.647841    1.880546  1662.593985   \n",
       "std     2820.378426  1.063400e+06    1.862499    0.896519  1169.031917   \n",
       "min    59059.000000  3.500000e+03    0.000000    1.000000   300.000000   \n",
       "25%    94109.000000  8.787500e+05    2.000000    1.000000   978.750000   \n",
       "50%    94114.000000  1.271000e+06    2.000000    2.000000  1360.000000   \n",
       "75%    94122.000000  1.813750e+06    3.000000    2.000000  1904.750000   \n",
       "max    94158.000000  1.025000e+07   18.000000    5.500000  9504.000000   \n",
       "\n",
       "            lotsize      yrbuilt  daysonmkt    pricesqft     hoamonth  \\\n",
       "count    139.000000   288.000000  306.00000   264.000000   159.000000   \n",
       "mean    3194.935252  1952.006944   14.30719   949.905303   543.874214   \n",
       "std     4656.050424    39.950230    8.87308   279.135062   436.562243   \n",
       "min      611.000000  1885.000000    2.00000   339.000000     4.000000   \n",
       "25%     2319.500000  1916.750000    6.00000   773.750000   342.500000   \n",
       "50%     2513.000000  1941.000000   12.00000   963.500000   473.000000   \n",
       "75%     3090.000000  1996.000000   23.00000  1106.000000   683.000000   \n",
       "max    56024.000000  2017.000000   30.00000  2053.000000  4413.000000   \n",
       "\n",
       "       nextopenstart  nextopenend    latitude   longitude  \n",
       "count            0.0          0.0  309.000000  309.000000  \n",
       "mean             NaN          NaN   37.760820 -122.431289  \n",
       "std              NaN          NaN    0.025052    0.027834  \n",
       "min              NaN          NaN   37.709249 -122.510730  \n",
       "25%              NaN          NaN   37.739065 -122.443876  \n",
       "50%              NaN          NaN   37.762549 -122.428527  \n",
       "75%              NaN          NaN   37.781520 -122.412238  \n",
       "max              NaN          NaN   37.805816 -122.371007  "
      ]
     },
     "execution_count": 27,
     "metadata": {},
     "output_type": "execute_result"
    }
   ],
   "source": [
    "sf1.describe()"
   ]
  },
  {
   "cell_type": "code",
   "execution_count": 28,
   "metadata": {},
   "outputs": [
    {
     "data": {
      "image/png": "[encoded data removed]",
      "text/plain": [
       "<matplotlib.figure.Figure at 0x112a66b00>"
      ]
     },
     "metadata": {},
     "output_type": "display_data"
    }
   ],
   "source": [
    "plt.figure(1, figsize=(10,8), )\n",
    "plt.scatter(sf1['sqft'], sf1['price'], marker=0, s=10, c='g')\n",
    "#plt.axis([12, 16, 12, 16])\n",
    "plt.show();"
   ]
  },
  {
   "cell_type": "code",
   "execution_count": 20,
   "metadata": {},
   "outputs": [
    {
     "name": "stdout",
     "output_type": "stream",
     "text": [
      "                            OLS Regression Results                            \n",
      "==============================================================================\n",
      "Dep. Variable:          np.log(price)   R-squared:                       0.743\n",
      "Model:                            OLS   Adj. R-squared:                  0.732\n",
      "Method:                 Least Squares   F-statistic:                     70.43\n",
      "Date:                Wed, 15 Nov 2017   Prob (F-statistic):           3.65e-66\n",
      "Time:                        18:13:16   Log-Likelihood:                -14.895\n",
      "No. Observations:                 255   AIC:                             51.79\n",
      "Df Residuals:                     244   BIC:                             90.74\n",
      "Df Model:                          10                                         \n",
      "Covariance Type:            nonrobust                                         \n",
      "====================================================================================\n",
      "                       coef    std err          t      P>|t|      [0.025      0.975]\n",
      "------------------------------------------------------------------------------------\n",
      "Intercept            9.1469      0.351     26.076      0.000       8.456       9.838\n",
      "C(baths)[T.1.25]    -0.1167      0.189     -0.616      0.538      -0.490       0.256\n",
      "C(baths)[T.1.5]      0.0383      0.080      0.482      0.630      -0.118       0.195\n",
      "C(baths)[T.2.0]      0.1334      0.047      2.853      0.005       0.041       0.226\n",
      "C(baths)[T.2.5]      0.2938      0.072      4.098      0.000       0.153       0.435\n",
      "C(baths)[T.3.0]      0.1741      0.084      2.067      0.040       0.008       0.340\n",
      "C(baths)[T.3.5]      0.5117      0.124      4.125      0.000       0.267       0.756\n",
      "C(baths)[T.4.0]     -0.0601      0.150     -0.402      0.688      -0.355       0.234\n",
      "C(baths)[T.4.5]      0.9103      0.171      5.324      0.000       0.574       1.247\n",
      "C(baths)[T.5.0]      0.1603      0.168      0.955      0.341      -0.170       0.491\n",
      "C(baths)[T.5.5]           0          0        nan        nan           0           0\n",
      "np.log(sqft)         0.6632      0.052     12.872      0.000       0.562       0.765\n",
      "==============================================================================\n",
      "Omnibus:                       21.167   Durbin-Watson:                   1.990\n",
      "Prob(Omnibus):                  0.000   Jarque-Bera (JB):               30.400\n",
      "Skew:                          -0.551   Prob(JB):                     2.50e-07\n",
      "Kurtosis:                       4.283   Cond. No.                          inf\n",
      "==============================================================================\n",
      "\n",
      "Warnings:\n",
      "[1] Standard Errors assume that the covariance matrix of the errors is correctly specified.\n",
      "[2] The smallest eigenvalue is      0. This might indicate that there are\n",
      "strong multicollinearity problems or that the design matrix is singular.\n"
     ]
    },
    {
     "name": "stderr",
     "output_type": "stream",
     "text": [
      "/Users/Paul/anaconda3/lib/python3.6/site-packages/statsmodels/regression/linear_model.py:1471: RuntimeWarning: divide by zero encountered in double_scalars\n",
      "  return np.sqrt(eigvals[0]/eigvals[-1])\n",
      "/Users/Paul/anaconda3/lib/python3.6/site-packages/statsmodels/base/model.py:1036: RuntimeWarning: invalid value encountered in true_divide\n",
      "  return self.params / self.bse\n",
      "/Users/Paul/anaconda3/lib/python3.6/site-packages/scipy/stats/_distn_infrastructure.py:879: RuntimeWarning: invalid value encountered in greater\n",
      "  return (self.a < x) & (x < self.b)\n",
      "/Users/Paul/anaconda3/lib/python3.6/site-packages/scipy/stats/_distn_infrastructure.py:879: RuntimeWarning: invalid value encountered in less\n",
      "  return (self.a < x) & (x < self.b)\n",
      "/Users/Paul/anaconda3/lib/python3.6/site-packages/scipy/stats/_distn_infrastructure.py:1818: RuntimeWarning: invalid value encountered in less_equal\n",
      "  cond2 = cond0 & (x <= self.a)\n"
     ]
    }
   ],
   "source": [
    "import statsmodels.api as sm\n",
    "import numpy as np\n",
    "from patsy import dmatrices\n",
    "y, X = dmatrices('np.log(price) ~ np.log(sqft) + C(baths)', \n",
    "                 data=sf1, return_type='dataframe')\n",
    "mod = sm.OLS(y, X)\n",
    "res = mod.fit()\n",
    "residuals = res.resid\n",
    "predicted = res.fittedvalues\n",
    "observed = y\n",
    "print(res.summary())"
   ]
  },
  {
   "cell_type": "code",
   "execution_count": 21,
   "metadata": {},
   "outputs": [
    {
     "data": {
      "image/png": "[encoded data removed]",
      "text/plain": [
       "<matplotlib.figure.Figure at 0x11682ff60>"
      ]
     },
     "metadata": {},
     "output_type": "display_data"
    }
   ],
   "source": [
    "plt.hist(residuals, bins=25, normed=True, alpha=.5)\n",
    "mu = residuals.mean()\n",
    "variance = residuals.var()\n",
    "sigma = residuals.std()\n",
    "x = np.linspace(-3, 3, 100)\n",
    "plt.plot(x,mlab.normpdf(x, mu, sigma));"
   ]
  },
  {
   "cell_type": "code",
   "execution_count": 22,
   "metadata": {},
   "outputs": [
    {
     "data": {
      "image/png": "[encoded data removed]",
      "text/plain": [
       "<matplotlib.figure.Figure at 0x106170278>"
      ]
     },
     "metadata": {},
     "output_type": "display_data"
    }
   ],
   "source": [
    "plt.figure(1, figsize=(10,8), )\n",
    "plt.plot([12, 16], [0, 0], c='b')\n",
    "plt.scatter(predicted, residuals, marker=0, s=10, c='g');\n",
    "plt.axis([12, 16, -0.8, 0.8])\n",
    "plt.show();"
   ]
  },
  {
   "cell_type": "code",
   "execution_count": 24,
   "metadata": {},
   "outputs": [
    {
     "data": {
      "image/png": "[encoded data removed]",
      "text/plain": [
       "<matplotlib.figure.Figure at 0x117310f28>"
      ]
     },
     "metadata": {},
     "output_type": "display_data"
    }
   ],
   "source": [
    "plt.figure(1, figsize=(10,8), )\n",
    "plt.plot([12, 16], [12, 16])\n",
    "plt.scatter(observed, predicted, marker=0, s=10, c='g')\n",
    "plt.axis([12, 16, 12, 16])\n",
    "plt.show();"
   ]
  },
  {
   "cell_type": "code",
   "execution_count": 25,
   "metadata": {},
   "outputs": [],
   "source": [
    "vars = pd.read_csv('data/ba_block_variables.csv', dtype={'block_id':object})"
   ]
  },
  {
   "cell_type": "code",
   "execution_count": 26,
   "metadata": {},
   "outputs": [
    {
     "data": {
      "text/plain": [
       "(109228, 1015)"
      ]
     },
     "execution_count": 26,
     "metadata": {},
     "output_type": "execute_result"
    }
   ],
   "source": [
    "vars.shape"
   ]
  },
  {
   "cell_type": "code",
   "execution_count": 27,
   "metadata": {},
   "outputs": [
    {
     "data": {
      "text/html": [
       "<div>\n",
       "<style scoped>\n",
       "    .dataframe tbody tr th:only-of-type {\n",
       "        vertical-align: middle;\n",
       "    }\n",
       "\n",
       "    .dataframe tbody tr th {\n",
       "        vertical-align: top;\n",
       "    }\n",
       "\n",
       "    .dataframe thead th {\n",
       "        text-align: right;\n",
       "    }\n",
       "</style>\n",
       "<table border=\"1\" class=\"dataframe\">\n",
       "  <thead>\n",
       "    <tr style=\"text-align: right;\">\n",
       "      <th></th>\n",
       "      <th>block_id</th>\n",
       "      <th>bgpop</th>\n",
       "      <th>bgacres</th>\n",
       "      <th>bgjobs</th>\n",
       "      <th>bgmedkids</th>\n",
       "      <th>bgmedhhs</th>\n",
       "      <th>bgmedinc</th>\n",
       "      <th>proprent</th>\n",
       "      <th>lowinc1500m</th>\n",
       "      <th>highinc1500m</th>\n",
       "      <th>...</th>\n",
       "      <th>lnret3000m</th>\n",
       "      <th>lnfire3000m</th>\n",
       "      <th>lnserv3000m</th>\n",
       "      <th>prop1per</th>\n",
       "      <th>prop2per</th>\n",
       "      <th>bgmedagehd</th>\n",
       "      <th>puma1</th>\n",
       "      <th>puma2</th>\n",
       "      <th>puma3</th>\n",
       "      <th>puma4</th>\n",
       "    </tr>\n",
       "  </thead>\n",
       "  <tbody>\n",
       "    <tr>\n",
       "      <th>0</th>\n",
       "      <td>060014271001000</td>\n",
       "      <td>888.0</td>\n",
       "      <td>90.106156</td>\n",
       "      <td>465.0</td>\n",
       "      <td>0.0</td>\n",
       "      <td>2.0</td>\n",
       "      <td>80000.0</td>\n",
       "      <td>0.558603</td>\n",
       "      <td>5.991451</td>\n",
       "      <td>6.114498</td>\n",
       "      <td>...</td>\n",
       "      <td>7.457814</td>\n",
       "      <td>5.329694</td>\n",
       "      <td>8.082779</td>\n",
       "      <td>0.34414</td>\n",
       "      <td>0.381546</td>\n",
       "      <td>57.0</td>\n",
       "      <td>0</td>\n",
       "      <td>0</td>\n",
       "      <td>0</td>\n",
       "      <td>0</td>\n",
       "    </tr>\n",
       "    <tr>\n",
       "      <th>1</th>\n",
       "      <td>060014271001001</td>\n",
       "      <td>888.0</td>\n",
       "      <td>90.106156</td>\n",
       "      <td>465.0</td>\n",
       "      <td>0.0</td>\n",
       "      <td>2.0</td>\n",
       "      <td>80000.0</td>\n",
       "      <td>0.558603</td>\n",
       "      <td>5.991451</td>\n",
       "      <td>6.114498</td>\n",
       "      <td>...</td>\n",
       "      <td>7.457814</td>\n",
       "      <td>5.329694</td>\n",
       "      <td>8.082779</td>\n",
       "      <td>0.34414</td>\n",
       "      <td>0.381546</td>\n",
       "      <td>57.0</td>\n",
       "      <td>0</td>\n",
       "      <td>0</td>\n",
       "      <td>0</td>\n",
       "      <td>0</td>\n",
       "    </tr>\n",
       "    <tr>\n",
       "      <th>2</th>\n",
       "      <td>060014271001002</td>\n",
       "      <td>888.0</td>\n",
       "      <td>90.106156</td>\n",
       "      <td>465.0</td>\n",
       "      <td>0.0</td>\n",
       "      <td>2.0</td>\n",
       "      <td>80000.0</td>\n",
       "      <td>0.558603</td>\n",
       "      <td>5.991451</td>\n",
       "      <td>6.114498</td>\n",
       "      <td>...</td>\n",
       "      <td>7.457814</td>\n",
       "      <td>5.329694</td>\n",
       "      <td>8.082779</td>\n",
       "      <td>0.34414</td>\n",
       "      <td>0.381546</td>\n",
       "      <td>57.0</td>\n",
       "      <td>0</td>\n",
       "      <td>0</td>\n",
       "      <td>0</td>\n",
       "      <td>0</td>\n",
       "    </tr>\n",
       "    <tr>\n",
       "      <th>3</th>\n",
       "      <td>060014271001003</td>\n",
       "      <td>888.0</td>\n",
       "      <td>90.106156</td>\n",
       "      <td>465.0</td>\n",
       "      <td>0.0</td>\n",
       "      <td>2.0</td>\n",
       "      <td>80000.0</td>\n",
       "      <td>0.558603</td>\n",
       "      <td>6.231131</td>\n",
       "      <td>6.339032</td>\n",
       "      <td>...</td>\n",
       "      <td>7.558539</td>\n",
       "      <td>5.431654</td>\n",
       "      <td>8.188618</td>\n",
       "      <td>0.34414</td>\n",
       "      <td>0.381546</td>\n",
       "      <td>57.0</td>\n",
       "      <td>0</td>\n",
       "      <td>0</td>\n",
       "      <td>0</td>\n",
       "      <td>0</td>\n",
       "    </tr>\n",
       "    <tr>\n",
       "      <th>4</th>\n",
       "      <td>060014271001004</td>\n",
       "      <td>888.0</td>\n",
       "      <td>90.106156</td>\n",
       "      <td>465.0</td>\n",
       "      <td>0.0</td>\n",
       "      <td>2.0</td>\n",
       "      <td>80000.0</td>\n",
       "      <td>0.558603</td>\n",
       "      <td>6.107350</td>\n",
       "      <td>5.763724</td>\n",
       "      <td>...</td>\n",
       "      <td>7.690577</td>\n",
       "      <td>5.521359</td>\n",
       "      <td>8.287781</td>\n",
       "      <td>0.34414</td>\n",
       "      <td>0.381546</td>\n",
       "      <td>57.0</td>\n",
       "      <td>0</td>\n",
       "      <td>0</td>\n",
       "      <td>0</td>\n",
       "      <td>0</td>\n",
       "    </tr>\n",
       "  </tbody>\n",
       "</table>\n",
       "<p>5 rows × 32 columns</p>\n",
       "</div>"
      ],
      "text/plain": [
       "          block_id  bgpop    bgacres  bgjobs  bgmedkids  bgmedhhs  bgmedinc  \\\n",
       "0  060014271001000  888.0  90.106156   465.0        0.0       2.0   80000.0   \n",
       "1  060014271001001  888.0  90.106156   465.0        0.0       2.0   80000.0   \n",
       "2  060014271001002  888.0  90.106156   465.0        0.0       2.0   80000.0   \n",
       "3  060014271001003  888.0  90.106156   465.0        0.0       2.0   80000.0   \n",
       "4  060014271001004  888.0  90.106156   465.0        0.0       2.0   80000.0   \n",
       "\n",
       "   proprent  lowinc1500m  highinc1500m  ...    lnret3000m  lnfire3000m  \\\n",
       "0  0.558603     5.991451      6.114498  ...      7.457814     5.329694   \n",
       "1  0.558603     5.991451      6.114498  ...      7.457814     5.329694   \n",
       "2  0.558603     5.991451      6.114498  ...      7.457814     5.329694   \n",
       "3  0.558603     6.231131      6.339032  ...      7.558539     5.431654   \n",
       "4  0.558603     6.107350      5.763724  ...      7.690577     5.521359   \n",
       "\n",
       "   lnserv3000m  prop1per  prop2per  bgmedagehd  puma1  puma2  puma3  puma4  \n",
       "0     8.082779   0.34414  0.381546        57.0      0      0      0      0  \n",
       "1     8.082779   0.34414  0.381546        57.0      0      0      0      0  \n",
       "2     8.082779   0.34414  0.381546        57.0      0      0      0      0  \n",
       "3     8.188618   0.34414  0.381546        57.0      0      0      0      0  \n",
       "4     8.287781   0.34414  0.381546        57.0      0      0      0      0  \n",
       "\n",
       "[5 rows x 32 columns]"
      ]
     },
     "execution_count": 27,
     "metadata": {},
     "output_type": "execute_result"
    }
   ],
   "source": [
    "smallvars = vars[['block_id','block_groups_sum_persons','block_groups_sum_acres','block_groups_total_jobs',\n",
    "                 'block_groups_median_children', 'block_groups_median_persons' , 'block_groups_median_income',\n",
    "                 'block_groups_prop_tenure_2', 'nodes_low_income_hh_1500m', 'nodes_high_income_hh_1500m',\n",
    "                 'nodes_jobs_5000m', 'nodes_jobs_30km', 'nodes_population_400m', 'nodes_population_800m',\n",
    "                 'nodes_jobs_800m', 'prop_race_of_head_1', 'prop_race_of_head_2', 'pumas_density_households',\n",
    "                 'nodes_jobs_3000m_agg1', 'nodes_jobs_3000m_agg2', 'pumas_density_jobs', 'nodes_jobs_40km',\n",
    "                 'nodes_jobs_3000m_agg3', 'nodes_jobs_3000m_agg4', 'nodes_jobs_3000m_agg5',\n",
    "                 'block_groups_prop_persons_1', 'block_groups_prop_persons_2', 'block_groups_median_age_of_head',\n",
    "                 'puma10_id_is_0607501', 'puma10_id_is_0607502', 'puma10_id_is_0607503', 'puma10_id_is_0607504']]\n",
    "sv = smallvars.rename(index=str, columns={'block_groups_sum_persons': 'bgpop',\n",
    "                                     'block_groups_sum_acres': 'bgacres',\n",
    "                                    'block_groups_total_jobs': 'bgjobs',\n",
    "                                    'block_groups_median_children': 'bgmedkids',\n",
    "                                    'block_groups_median_persons': 'bgmedhhs',\n",
    "                                    'block_groups_median_income': 'bgmedinc',\n",
    "                                    'block_groups_prop_tenure_2': 'proprent',\n",
    "                                    'nodes_low_income_hh_1500m': 'lowinc1500m',\n",
    "                                    'nodes_high_income_hh_1500m': 'highinc1500m',\n",
    "                                    'nodes_jobs_5000m': 'lnjobs5000m',\n",
    "                                    'nodes_jobs_30km': 'lnjobs30km',\n",
    "                                    'nodes_jobs_40km': 'lnjobs40km',\n",
    "                                    'nodes_population_400m': 'lnpop400m',\n",
    "                                    'nodes_population_800m': 'lnpop800m',\n",
    "                                    'nodes_jobs_800m': 'lnjobs800m',\n",
    "                                    'prop_race_of_head_1': 'propwhite',\n",
    "                                    'prop_race_of_head_2': 'propblack',\n",
    "                                    'pumas_density_households': 'pumahhden',\n",
    "                                    'pumas_density_jobs': 'pumajobden',\n",
    "                                    'nodes_jobs_3000m_agg1': 'lnbasic3000m',\n",
    "                                    'nodes_jobs_3000m_agg2': 'lntcpuw3000m',\n",
    "                                    'nodes_jobs_3000m_agg3': 'lnret3000m',\n",
    "                                    'nodes_jobs_3000m_agg4': 'lnfire3000m',\n",
    "                                    'nodes_jobs_3000m_agg5': 'lnserv3000m',\n",
    "                                    'block_groups_prop_persons_1': 'prop1per',\n",
    "                                    'block_groups_prop_persons_2': 'prop2per',\n",
    "                                    'block_groups_median_age_of_head': 'bgmedagehd',\n",
    "                                    'puma10_id_is_0607501': 'puma1',\n",
    "                                    'puma10_id_is_0607502': 'puma2',\n",
    "                                    'puma10_id_is_0607503': 'puma3',\n",
    "                                    'puma10_id_is_0607504': 'puma4'\n",
    "                                         })\n",
    "sv.head()"
   ]
  },
  {
   "cell_type": "markdown",
   "metadata": {},
   "source": [
    "Recoded detailed race code\n",
    " 1 .White alone\n",
    " 2 .Black or African American alone\n",
    " 3 .American Indian alone\n",
    " 4 .Alaska Native alone\n",
    " 5 .American Indian and Alaska Native tribes specified; or American\n",
    " .Indian or Alaska native, not specified and no other races\n",
    " 6 .Asian alone\n",
    " 7 .Native Hawaiian and Other Pacific Islander alone\n",
    " 8 .Some other race alone\n",
    " 9 .Two or more major race groups "
   ]
  },
  {
   "cell_type": "code",
   "execution_count": 29,
   "metadata": {},
   "outputs": [],
   "source": [
    "with open('pg_engine.txt') as f:\n",
    "    pg_engine = f.readlines()\n",
    "from sqlalchemy import create_engine\n",
    "engine = create_engine(pg_engine[0])"
   ]
  },
  {
   "cell_type": "code",
   "execution_count": 30,
   "metadata": {},
   "outputs": [
    {
     "name": "stdout",
     "output_type": "stream",
     "text": [
      "CPU times: user 49.8 s, sys: 11.5 s, total: 1min 1s\n",
      "Wall time: 2min 7s\n"
     ]
    }
   ],
   "source": [
    "%%time\n",
    "import pandas as pd\n",
    "df = pd.read_sql_query('select * from \"rental_listings\"',con=engine)"
   ]
  },
  {
   "cell_type": "code",
   "execution_count": 31,
   "metadata": {},
   "outputs": [
    {
     "name": "stdout",
     "output_type": "stream",
     "text": [
      "pid              object\n",
      "date             object\n",
      "region           object\n",
      "neighborhood     object\n",
      "rent            float64\n",
      "bedrooms        float64\n",
      "sqft            float64\n",
      "rent_sqft       float64\n",
      "longitude       float64\n",
      "latitude        float64\n",
      "county           object\n",
      "fips_block       object\n",
      "state            object\n",
      "bathrooms       float64\n",
      "dtype: object\n"
     ]
    },
    {
     "data": {
      "text/html": [
       "<div>\n",
       "<style scoped>\n",
       "    .dataframe tbody tr th:only-of-type {\n",
       "        vertical-align: middle;\n",
       "    }\n",
       "\n",
       "    .dataframe tbody tr th {\n",
       "        vertical-align: top;\n",
       "    }\n",
       "\n",
       "    .dataframe thead th {\n",
       "        text-align: right;\n",
       "    }\n",
       "</style>\n",
       "<table border=\"1\" class=\"dataframe\">\n",
       "  <thead>\n",
       "    <tr style=\"text-align: right;\">\n",
       "      <th></th>\n",
       "      <th>rent</th>\n",
       "      <th>bedrooms</th>\n",
       "      <th>sqft</th>\n",
       "      <th>rent_sqft</th>\n",
       "      <th>longitude</th>\n",
       "      <th>latitude</th>\n",
       "      <th>bathrooms</th>\n",
       "    </tr>\n",
       "  </thead>\n",
       "  <tbody>\n",
       "    <tr>\n",
       "      <th>count</th>\n",
       "      <td>1.215242e+07</td>\n",
       "      <td>1.215242e+07</td>\n",
       "      <td>1.215242e+07</td>\n",
       "      <td>1.215242e+07</td>\n",
       "      <td>1.215242e+07</td>\n",
       "      <td>1.215242e+07</td>\n",
       "      <td>1.037351e+07</td>\n",
       "    </tr>\n",
       "    <tr>\n",
       "      <th>mean</th>\n",
       "      <td>4.493626e+04</td>\n",
       "      <td>1.803428e+00</td>\n",
       "      <td>1.061739e+03</td>\n",
       "      <td>5.942926e+01</td>\n",
       "      <td>-9.616490e+01</td>\n",
       "      <td>3.693181e+01</td>\n",
       "      <td>1.540318e+06</td>\n",
       "    </tr>\n",
       "    <tr>\n",
       "      <th>std</th>\n",
       "      <td>9.081297e+06</td>\n",
       "      <td>9.543504e-01</td>\n",
       "      <td>9.648805e+03</td>\n",
       "      <td>1.454028e+04</td>\n",
       "      <td>1.685027e+01</td>\n",
       "      <td>5.198811e+00</td>\n",
       "      <td>3.515004e+09</td>\n",
       "    </tr>\n",
       "    <tr>\n",
       "      <th>min</th>\n",
       "      <td>1.000000e+00</td>\n",
       "      <td>0.000000e+00</td>\n",
       "      <td>1.000000e+00</td>\n",
       "      <td>1.000001e-06</td>\n",
       "      <td>-1.793005e+02</td>\n",
       "      <td>-8.539851e+01</td>\n",
       "      <td>0.000000e+00</td>\n",
       "    </tr>\n",
       "    <tr>\n",
       "      <th>25%</th>\n",
       "      <td>8.710000e+02</td>\n",
       "      <td>1.000000e+00</td>\n",
       "      <td>7.360000e+02</td>\n",
       "      <td>9.332310e-01</td>\n",
       "      <td>-1.150669e+02</td>\n",
       "      <td>3.343878e+01</td>\n",
       "      <td>1.000000e+00</td>\n",
       "    </tr>\n",
       "    <tr>\n",
       "      <th>50%</th>\n",
       "      <td>1.210000e+03</td>\n",
       "      <td>2.000000e+00</td>\n",
       "      <td>9.400000e+02</td>\n",
       "      <td>1.267183e+00</td>\n",
       "      <td>-9.420281e+01</td>\n",
       "      <td>3.719705e+01</td>\n",
       "      <td>1.000000e+00</td>\n",
       "    </tr>\n",
       "    <tr>\n",
       "      <th>75%</th>\n",
       "      <td>1.730000e+03</td>\n",
       "      <td>2.000000e+00</td>\n",
       "      <td>1.170000e+03</td>\n",
       "      <td>1.875809e+00</td>\n",
       "      <td>-8.128140e+01</td>\n",
       "      <td>4.011384e+01</td>\n",
       "      <td>2.000000e+00</td>\n",
       "    </tr>\n",
       "    <tr>\n",
       "      <th>max</th>\n",
       "      <td>2.147484e+09</td>\n",
       "      <td>1.270000e+02</td>\n",
       "      <td>8.388607e+06</td>\n",
       "      <td>1.651910e+07</td>\n",
       "      <td>1.000000e+03</td>\n",
       "      <td>1.653830e+02</td>\n",
       "      <td>8.494864e+12</td>\n",
       "    </tr>\n",
       "  </tbody>\n",
       "</table>\n",
       "</div>"
      ],
      "text/plain": [
       "               rent      bedrooms          sqft     rent_sqft     longitude  \\\n",
       "count  1.215242e+07  1.215242e+07  1.215242e+07  1.215242e+07  1.215242e+07   \n",
       "mean   4.493626e+04  1.803428e+00  1.061739e+03  5.942926e+01 -9.616490e+01   \n",
       "std    9.081297e+06  9.543504e-01  9.648805e+03  1.454028e+04  1.685027e+01   \n",
       "min    1.000000e+00  0.000000e+00  1.000000e+00  1.000001e-06 -1.793005e+02   \n",
       "25%    8.710000e+02  1.000000e+00  7.360000e+02  9.332310e-01 -1.150669e+02   \n",
       "50%    1.210000e+03  2.000000e+00  9.400000e+02  1.267183e+00 -9.420281e+01   \n",
       "75%    1.730000e+03  2.000000e+00  1.170000e+03  1.875809e+00 -8.128140e+01   \n",
       "max    2.147484e+09  1.270000e+02  8.388607e+06  1.651910e+07  1.000000e+03   \n",
       "\n",
       "           latitude     bathrooms  \n",
       "count  1.215242e+07  1.037351e+07  \n",
       "mean   3.693181e+01  1.540318e+06  \n",
       "std    5.198811e+00  3.515004e+09  \n",
       "min   -8.539851e+01  0.000000e+00  \n",
       "25%    3.343878e+01  1.000000e+00  \n",
       "50%    3.719705e+01  1.000000e+00  \n",
       "75%    4.011384e+01  2.000000e+00  \n",
       "max    1.653830e+02  8.494864e+12  "
      ]
     },
     "execution_count": 31,
     "metadata": {},
     "output_type": "execute_result"
    }
   ],
   "source": [
    "print(df.dtypes)\n",
    "df.describe()"
   ]
  },
  {
   "cell_type": "code",
   "execution_count": 32,
   "metadata": {},
   "outputs": [],
   "source": [
    "# convert the date column to yyyy-mm-dd date format\n",
    "df['date'] = pd.to_datetime(df['date'], format='%Y-%m-%d')"
   ]
  },
  {
   "cell_type": "code",
   "execution_count": 33,
   "metadata": {},
   "outputs": [
    {
     "data": {
      "text/html": [
       "<div>\n",
       "<style scoped>\n",
       "    .dataframe tbody tr th:only-of-type {\n",
       "        vertical-align: middle;\n",
       "    }\n",
       "\n",
       "    .dataframe tbody tr th {\n",
       "        vertical-align: top;\n",
       "    }\n",
       "\n",
       "    .dataframe thead th {\n",
       "        text-align: right;\n",
       "    }\n",
       "</style>\n",
       "<table border=\"1\" class=\"dataframe\">\n",
       "  <thead>\n",
       "    <tr style=\"text-align: right;\">\n",
       "      <th></th>\n",
       "      <th>2014_median_income</th>\n",
       "      <th>2014_pop_est</th>\n",
       "      <th>census_name</th>\n",
       "      <th>median_income</th>\n",
       "      <th>population</th>\n",
       "    </tr>\n",
       "    <tr>\n",
       "      <th>region</th>\n",
       "      <th></th>\n",
       "      <th></th>\n",
       "      <th></th>\n",
       "      <th></th>\n",
       "      <th></th>\n",
       "    </tr>\n",
       "  </thead>\n",
       "  <tbody>\n",
       "    <tr>\n",
       "      <th>newyork</th>\n",
       "      <td>67,066</td>\n",
       "      <td>20,092,883</td>\n",
       "      <td>New York-Newark-Jersey City, NY-NJ-PA MSA</td>\n",
       "      <td>67066</td>\n",
       "      <td>20092883</td>\n",
       "    </tr>\n",
       "    <tr>\n",
       "      <th>losangeles</th>\n",
       "      <td>60,514</td>\n",
       "      <td>13,262,220</td>\n",
       "      <td>Los Angeles-Long Beach-Anaheim, CA MSA</td>\n",
       "      <td>60514</td>\n",
       "      <td>13262220</td>\n",
       "    </tr>\n",
       "    <tr>\n",
       "      <th>chicago</th>\n",
       "      <td>61,598</td>\n",
       "      <td>9,554,598</td>\n",
       "      <td>Chicago-Naperville-Elgin, IL-IN-WI MSA</td>\n",
       "      <td>61598</td>\n",
       "      <td>9554598</td>\n",
       "    </tr>\n",
       "    <tr>\n",
       "      <th>sfbay</th>\n",
       "      <td>80,600</td>\n",
       "      <td>8,607,423</td>\n",
       "      <td>San Jose-San Francisco-Oakland, CA CSA</td>\n",
       "      <td>80600</td>\n",
       "      <td>8607423</td>\n",
       "    </tr>\n",
       "    <tr>\n",
       "      <th>dallas</th>\n",
       "      <td>59,530</td>\n",
       "      <td>6,954,330</td>\n",
       "      <td>Dallas-Fort Worth-Arlington, TX MSA</td>\n",
       "      <td>59530</td>\n",
       "      <td>6954330</td>\n",
       "    </tr>\n",
       "  </tbody>\n",
       "</table>\n",
       "</div>"
      ],
      "text/plain": [
       "           2014_median_income 2014_pop_est  \\\n",
       "region                                       \n",
       "newyork                67,066   20,092,883   \n",
       "losangeles             60,514   13,262,220   \n",
       "chicago                61,598    9,554,598   \n",
       "sfbay                  80,600    8,607,423   \n",
       "dallas                 59,530    6,954,330   \n",
       "\n",
       "                                          census_name  median_income  \\\n",
       "region                                                                 \n",
       "newyork     New York-Newark-Jersey City, NY-NJ-PA MSA          67066   \n",
       "losangeles     Los Angeles-Long Beach-Anaheim, CA MSA          60514   \n",
       "chicago        Chicago-Naperville-Elgin, IL-IN-WI MSA          61598   \n",
       "sfbay          San Jose-San Francisco-Oakland, CA CSA          80600   \n",
       "dallas            Dallas-Fort Worth-Arlington, TX MSA          59530   \n",
       "\n",
       "            population  \n",
       "region                  \n",
       "newyork       20092883  \n",
       "losangeles    13262220  \n",
       "chicago        9554598  \n",
       "sfbay          8607423  \n",
       "dallas         6954330  "
      ]
     },
     "execution_count": 33,
     "metadata": {},
     "output_type": "execute_result"
    }
   ],
   "source": [
    "# load the 2014 census data set of MSAs\n",
    "census = pd.read_csv('data/census_pop_income.csv', encoding='ISO-8859-1')\n",
    "census['median_income'] = census['2014_median_income'].str.replace(',','').astype(int)\n",
    "census['population'] = census['2014_pop_est'].str.replace(',','').astype(int)\n",
    "census = census.drop(labels='notes', axis=1, inplace=False)\n",
    "census = census.set_index('region')\n",
    "census.head()"
   ]
  },
  {
   "cell_type": "code",
   "execution_count": 39,
   "metadata": {},
   "outputs": [
    {
     "name": "stdout",
     "output_type": "stream",
     "text": [
      "region\n",
      "honolulu          991,788\n",
      "tulsa             969,224\n",
      "fresno            965,974\n",
      "albuquerque       904,587\n",
      "chicago         9,554,598\n",
      "newhaven          861,277\n",
      "sfbay           8,607,423\n",
      "dallas          6,954,330\n",
      "houston         6,490,180\n",
      "philadelphia    6,051,170\n",
      "washingtondc    6,033,737\n",
      "miami           5,929,819\n",
      "atlanta         5,614,323\n",
      "boston          4,732,161\n",
      "phoenix         4,489,109\n",
      "Name: 2014_pop_est, dtype: object\n"
     ]
    }
   ],
   "source": [
    "# these are the 15 most populous metros by population, defined by census bureau 2014 estimates\n",
    "most_populous_regions = census['2014_pop_est'].sort_values(ascending=False)\n",
    "print(most_populous_regions.head(15))"
   ]
  },
  {
   "cell_type": "code",
   "execution_count": 35,
   "metadata": {},
   "outputs": [
    {
     "data": {
      "text/html": [
       "<div>\n",
       "<style scoped>\n",
       "    .dataframe tbody tr th:only-of-type {\n",
       "        vertical-align: middle;\n",
       "    }\n",
       "\n",
       "    .dataframe tbody tr th {\n",
       "        vertical-align: top;\n",
       "    }\n",
       "\n",
       "    .dataframe thead th {\n",
       "        text-align: right;\n",
       "    }\n",
       "</style>\n",
       "<table border=\"1\" class=\"dataframe\">\n",
       "  <thead>\n",
       "    <tr style=\"text-align: right;\">\n",
       "      <th></th>\n",
       "      <th>pid</th>\n",
       "      <th>date</th>\n",
       "      <th>region</th>\n",
       "      <th>neighborhood</th>\n",
       "      <th>rent</th>\n",
       "      <th>bedrooms</th>\n",
       "      <th>sqft</th>\n",
       "      <th>rent_sqft</th>\n",
       "      <th>longitude</th>\n",
       "      <th>latitude</th>\n",
       "      <th>county</th>\n",
       "      <th>fips_block</th>\n",
       "      <th>state</th>\n",
       "      <th>bathrooms</th>\n",
       "      <th>2014_median_income</th>\n",
       "      <th>2014_pop_est</th>\n",
       "      <th>census_name</th>\n",
       "      <th>median_income</th>\n",
       "      <th>population</th>\n",
       "    </tr>\n",
       "  </thead>\n",
       "  <tbody>\n",
       "    <tr>\n",
       "      <th>59</th>\n",
       "      <td>5873902666</td>\n",
       "      <td>2016-11-13</td>\n",
       "      <td>cincinnati</td>\n",
       "      <td>Cincinnati</td>\n",
       "      <td>875.0</td>\n",
       "      <td>1.0</td>\n",
       "      <td>750.0</td>\n",
       "      <td>1.166667</td>\n",
       "      <td>-84.555389</td>\n",
       "      <td>39.108654</td>\n",
       "      <td>Hamilton</td>\n",
       "      <td>390610096001000</td>\n",
       "      <td>OH</td>\n",
       "      <td>NaN</td>\n",
       "      <td>55,729</td>\n",
       "      <td>2,149,449</td>\n",
       "      <td>Cincinnati, OH-KY-IN MSA</td>\n",
       "      <td>55729</td>\n",
       "      <td>2149449</td>\n",
       "    </tr>\n",
       "    <tr>\n",
       "      <th>1702</th>\n",
       "      <td>5839862773</td>\n",
       "      <td>2016-11-13</td>\n",
       "      <td>cincinnati</td>\n",
       "      <td>Cincinnati, Sycamore, Mason, Symmes</td>\n",
       "      <td>1250.0</td>\n",
       "      <td>2.0</td>\n",
       "      <td>1151.0</td>\n",
       "      <td>1.086012</td>\n",
       "      <td>-84.330700</td>\n",
       "      <td>39.269200</td>\n",
       "      <td>Hamilton</td>\n",
       "      <td>390610243014010</td>\n",
       "      <td>OH</td>\n",
       "      <td>NaN</td>\n",
       "      <td>55,729</td>\n",
       "      <td>2,149,449</td>\n",
       "      <td>Cincinnati, OH-KY-IN MSA</td>\n",
       "      <td>55729</td>\n",
       "      <td>2149449</td>\n",
       "    </tr>\n",
       "    <tr>\n",
       "      <th>3264</th>\n",
       "      <td>5839904702</td>\n",
       "      <td>2016-11-13</td>\n",
       "      <td>cincinnati</td>\n",
       "      <td>Cincinnati, Sycamore, Mason, Symmes</td>\n",
       "      <td>935.0</td>\n",
       "      <td>1.0</td>\n",
       "      <td>690.0</td>\n",
       "      <td>1.355072</td>\n",
       "      <td>-84.330700</td>\n",
       "      <td>39.269200</td>\n",
       "      <td>Hamilton</td>\n",
       "      <td>390610243014010</td>\n",
       "      <td>OH</td>\n",
       "      <td>NaN</td>\n",
       "      <td>55,729</td>\n",
       "      <td>2,149,449</td>\n",
       "      <td>Cincinnati, OH-KY-IN MSA</td>\n",
       "      <td>55729</td>\n",
       "      <td>2149449</td>\n",
       "    </tr>\n",
       "    <tr>\n",
       "      <th>4376</th>\n",
       "      <td>5839895285</td>\n",
       "      <td>2016-11-13</td>\n",
       "      <td>cincinnati</td>\n",
       "      <td>Cincinnati, Sycamore, Mason, Symmes</td>\n",
       "      <td>935.0</td>\n",
       "      <td>1.0</td>\n",
       "      <td>690.0</td>\n",
       "      <td>1.355072</td>\n",
       "      <td>-84.330700</td>\n",
       "      <td>39.269200</td>\n",
       "      <td>Hamilton</td>\n",
       "      <td>390610243014010</td>\n",
       "      <td>OH</td>\n",
       "      <td>NaN</td>\n",
       "      <td>55,729</td>\n",
       "      <td>2,149,449</td>\n",
       "      <td>Cincinnati, OH-KY-IN MSA</td>\n",
       "      <td>55729</td>\n",
       "      <td>2149449</td>\n",
       "    </tr>\n",
       "    <tr>\n",
       "      <th>5020</th>\n",
       "      <td>5874127885</td>\n",
       "      <td>2016-11-13</td>\n",
       "      <td>cincinnati</td>\n",
       "      <td>Oakley, UT</td>\n",
       "      <td>700.0</td>\n",
       "      <td>3.0</td>\n",
       "      <td>2085.0</td>\n",
       "      <td>0.335731</td>\n",
       "      <td>-111.245600</td>\n",
       "      <td>40.724300</td>\n",
       "      <td>Summit</td>\n",
       "      <td>490439642021006</td>\n",
       "      <td>UT</td>\n",
       "      <td>NaN</td>\n",
       "      <td>55,729</td>\n",
       "      <td>2,149,449</td>\n",
       "      <td>Cincinnati, OH-KY-IN MSA</td>\n",
       "      <td>55729</td>\n",
       "      <td>2149449</td>\n",
       "    </tr>\n",
       "  </tbody>\n",
       "</table>\n",
       "</div>"
      ],
      "text/plain": [
       "             pid       date      region                         neighborhood  \\\n",
       "59    5873902666 2016-11-13  cincinnati                           Cincinnati   \n",
       "1702  5839862773 2016-11-13  cincinnati  Cincinnati, Sycamore, Mason, Symmes   \n",
       "3264  5839904702 2016-11-13  cincinnati  Cincinnati, Sycamore, Mason, Symmes   \n",
       "4376  5839895285 2016-11-13  cincinnati  Cincinnati, Sycamore, Mason, Symmes   \n",
       "5020  5874127885 2016-11-13  cincinnati                           Oakley, UT   \n",
       "\n",
       "        rent  bedrooms    sqft  rent_sqft   longitude   latitude    county  \\\n",
       "59     875.0       1.0   750.0   1.166667  -84.555389  39.108654  Hamilton   \n",
       "1702  1250.0       2.0  1151.0   1.086012  -84.330700  39.269200  Hamilton   \n",
       "3264   935.0       1.0   690.0   1.355072  -84.330700  39.269200  Hamilton   \n",
       "4376   935.0       1.0   690.0   1.355072  -84.330700  39.269200  Hamilton   \n",
       "5020   700.0       3.0  2085.0   0.335731 -111.245600  40.724300    Summit   \n",
       "\n",
       "           fips_block state  bathrooms 2014_median_income 2014_pop_est  \\\n",
       "59    390610096001000    OH        NaN             55,729    2,149,449   \n",
       "1702  390610243014010    OH        NaN             55,729    2,149,449   \n",
       "3264  390610243014010    OH        NaN             55,729    2,149,449   \n",
       "4376  390610243014010    OH        NaN             55,729    2,149,449   \n",
       "5020  490439642021006    UT        NaN             55,729    2,149,449   \n",
       "\n",
       "                   census_name  median_income  population  \n",
       "59    Cincinnati, OH-KY-IN MSA          55729     2149449  \n",
       "1702  Cincinnati, OH-KY-IN MSA          55729     2149449  \n",
       "3264  Cincinnati, OH-KY-IN MSA          55729     2149449  \n",
       "4376  Cincinnati, OH-KY-IN MSA          55729     2149449  \n",
       "5020  Cincinnati, OH-KY-IN MSA          55729     2149449  "
      ]
     },
     "execution_count": 35,
     "metadata": {},
     "output_type": "execute_result"
    }
   ],
   "source": [
    "df = df.merge(census, left_on='region', right_index=True)\n",
    "df.head()"
   ]
  },
  {
   "cell_type": "code",
   "execution_count": null,
   "metadata": {},
   "outputs": [],
   "source": [
    "# Create an HDF5 file if desired, in the data directory\n",
    "#df.to_hdf('data/rents.h5','rents',append=False)"
   ]
  },
  {
   "cell_type": "code",
   "execution_count": null,
   "metadata": {},
   "outputs": [],
   "source": [
    "# Load from HDF5 if desired\n",
    "#df = pd.HDFStore('data/rents.h5')\n",
    "#df"
   ]
  },
  {
   "cell_type": "code",
   "execution_count": 36,
   "metadata": {},
   "outputs": [
    {
     "name": "stdout",
     "output_type": "stream",
     "text": [
      "valid rent_sqft range: [0.094654788418708197, 8.8050847457627093]\n",
      "valid rent range: [100.0, 9995.0]\n",
      "valid sqft range: [202.0, 4428.0]\n"
     ]
    }
   ],
   "source": [
    "upper_percentile = 0.998\n",
    "lower_percentile = 0.002\n",
    "\n",
    "# how many rows would be within the upper and lower percentiles?\n",
    "upper = int(len(df) * upper_percentile)\n",
    "lower = int(len(df) * lower_percentile)\n",
    "\n",
    "# get the rent/sqft values at the upper and lower percentiles\n",
    "rent_sqft_sorted = df['rent_sqft'].sort_values(ascending=True, inplace=False)\n",
    "upper_rent_sqft = rent_sqft_sorted.iloc[upper]\n",
    "lower_rent_sqft = rent_sqft_sorted.iloc[lower]\n",
    "\n",
    "# get the rent values at the upper and lower percentiles\n",
    "rent_sorted = df['rent'].sort_values(ascending=True, inplace=False)\n",
    "upper_rent = rent_sorted.iloc[upper]\n",
    "lower_rent = rent_sorted.iloc[lower]\n",
    "\n",
    "# get the sqft values at the upper and lower percentiles\n",
    "sqft_sorted = df['sqft'].sort_values(ascending=True, inplace=False)\n",
    "upper_sqft = sqft_sorted.iloc[upper]\n",
    "lower_sqft = sqft_sorted.iloc[lower]\n",
    "\n",
    "print('valid rent_sqft range:', [lower_rent_sqft, upper_rent_sqft])\n",
    "print('valid rent range:', [lower_rent, upper_rent])\n",
    "print('valid sqft range:', [lower_sqft, upper_sqft])"
   ]
  },
  {
   "cell_type": "code",
   "execution_count": 37,
   "metadata": {},
   "outputs": [
    {
     "data": {
      "text/plain": [
       "7792502"
      ]
     },
     "execution_count": 37,
     "metadata": {},
     "output_type": "execute_result"
    }
   ],
   "source": [
    "# create a boolean vector mask to filter out any rows with rent_sqft outside of the reasonable values\n",
    "rent_sqft_mask = (df['rent_sqft'] > lower_rent_sqft) & (df['rent_sqft'] < upper_rent_sqft)\n",
    "\n",
    "# create boolean vector masks to filter out any rows with rent or sqft outside of the reasonable values\n",
    "rent_mask = (df['rent'] > lower_rent) & (df['rent'] < upper_rent)\n",
    "sqft_mask = (df['sqft'] > lower_sqft) & (df['sqft'] < upper_sqft)\n",
    "\n",
    "# filter the thorough listings according to these masks\n",
    "filtered_listings = pd.DataFrame(df[rent_sqft_mask & rent_mask & sqft_mask])\n",
    "len(filtered_listings)"
   ]
  },
  {
   "cell_type": "code",
   "execution_count": null,
   "metadata": {},
   "outputs": [],
   "source": [
    "filtered_listings.describe()"
   ]
  },
  {
   "cell_type": "code",
   "execution_count": null,
   "metadata": {},
   "outputs": [],
   "source": [
    "#sfbay = filtered_listings[filtered_listings['region']=='sfbay']\n",
    "sfbay = df[df['region']=='sfbay']\n",
    "sfbay.describe()"
   ]
  },
  {
   "cell_type": "code",
   "execution_count": null,
   "metadata": {},
   "outputs": [],
   "source": [
    "#sfbay['rent_sqft'].quantile(.01)"
   ]
  },
  {
   "cell_type": "code",
   "execution_count": null,
   "metadata": {},
   "outputs": [],
   "source": [
    "#sfbay['sqft'].quantile(.01)"
   ]
  },
  {
   "cell_type": "code",
   "execution_count": null,
   "metadata": {},
   "outputs": [],
   "source": [
    "# create a boolean vector mask to filter out any rows with rent_sqft and sqft in Bay Area under 1 percentile\n",
    "#sfbay_rent_sqft_mask = (sfbay['rent_sqft'] > sfbay['rent_sqft'].quantile(.01) )\n",
    "\n",
    "# create boolean vector masks to filter out any rows with rent or sqft outside of the reasonable values\n",
    "#sfbay_sqft_mask = (sfbay['sqft'] > sfbay['sqft'].quantile(.01) )\n",
    "\n",
    "# filter the thorough listings according to these masks\n",
    "#sfbay_filtered = pd.DataFrame(sfbay[sfbay_rent_sqft_mask & sfbay_sqft_mask])\n",
    "#len(sfbay_filtered)"
   ]
  },
  {
   "cell_type": "code",
   "execution_count": null,
   "metadata": {},
   "outputs": [],
   "source": [
    "upper_percentile = 0.998\n",
    "lower_percentile = 0.002\n",
    "\n",
    "# how many rows would be within the upper and lower percentiles?\n",
    "upper = int(len(sfbay) * upper_percentile)\n",
    "lower = int(len(sfbay) * lower_percentile)\n",
    "\n",
    "# get the rent/sqft values at the upper and lower percentiles\n",
    "rent_sqft_sorted = sfbay['rent_sqft'].sort_values(ascending=True, inplace=False)\n",
    "upper_rent_sqft = rent_sqft_sorted.iloc[upper]\n",
    "lower_rent_sqft = rent_sqft_sorted.iloc[lower]\n",
    "\n",
    "# get the rent values at the upper and lower percentiles\n",
    "rent_sorted = sfbay['rent'].sort_values(ascending=True, inplace=False)\n",
    "upper_rent = rent_sorted.iloc[upper]\n",
    "lower_rent = rent_sorted.iloc[lower]\n",
    "\n",
    "# get the sqft values at the upper and lower percentiles\n",
    "sqft_sorted = sfbay['sqft'].sort_values(ascending=True, inplace=False)\n",
    "upper_sqft = sqft_sorted.iloc[upper]\n",
    "lower_sqft = sqft_sorted.iloc[lower]\n",
    "\n",
    "print('valid rent_sqft range:', [lower_rent_sqft, upper_rent_sqft])\n",
    "print('valid rent range:', [lower_rent, upper_rent])\n",
    "print('valid sqft range:', [lower_sqft, upper_sqft])"
   ]
  },
  {
   "cell_type": "code",
   "execution_count": null,
   "metadata": {},
   "outputs": [],
   "source": [
    "# create a boolean vector mask to filter out any rows with rent_sqft outside of the reasonable values\n",
    "rent_sqft_mask = (sfbay['rent_sqft'] > lower_rent_sqft) & (sfbay['rent_sqft'] < upper_rent_sqft)\n",
    "\n",
    "# create boolean vector masks to filter out any rows with rent or sqft outside of the reasonable values\n",
    "rent_mask = (sfbay['rent'] > lower_rent) & (sfbay['rent'] < upper_rent)\n",
    "sqft_mask = (sfbay['sqft'] > lower_sqft) & (sfbay['sqft'] < upper_sqft)\n",
    "\n",
    "# filter the thorough listings according to these masks\n",
    "sfbay_filtered = pd.DataFrame(sfbay[rent_sqft_mask & rent_mask & sqft_mask])\n",
    "len(sfbay_filtered)"
   ]
  },
  {
   "cell_type": "code",
   "execution_count": null,
   "metadata": {},
   "outputs": [],
   "source": [
    "sfbay_filtered.describe()"
   ]
  },
  {
   "cell_type": "code",
   "execution_count": null,
   "metadata": {},
   "outputs": [],
   "source": [
    "sf = sfbay_filtered.merge(sv, left_on='fips_block', right_on='block_id')\n",
    "sf['northsf'] = sf['puma1']+sf['puma2']+sf['puma3']+sf['puma4']\n",
    "sf['sqft1'] = sf['sqft']*sf['sqft']<1500\n",
    "sf['sqft2'] = sf['sqft']*sf['sqft']>1499\n",
    "sf['pct1per'] = sf['prop1per']*100\n",
    "sf['pct2per'] = sf['prop2per']*100\n",
    "sf['pctrent'] = sf['proprent']*100\n",
    "sf['pctblack'] = sf['propblack']*100\n",
    "sf.head()"
   ]
  },
  {
   "cell_type": "code",
   "execution_count": null,
   "metadata": {},
   "outputs": [],
   "source": [
    "sf.describe()"
   ]
  },
  {
   "cell_type": "code",
   "execution_count": null,
   "metadata": {
    "collapsed": true
   },
   "outputs": [],
   "source": [
    "sf['bgpopden'] = sf['bgpop']/sf['bgacres']\n",
    "sf['bgjobden'] = sf['bgjobs']/sf['bgacres']\n",
    "sf['highlowinc1500m'] = sf['highinc1500m']/sf['lowinc1500m']"
   ]
  },
  {
   "cell_type": "code",
   "execution_count": null,
   "metadata": {},
   "outputs": [],
   "source": [
    "sf.dtypes"
   ]
  },
  {
   "cell_type": "code",
   "execution_count": null,
   "metadata": {},
   "outputs": [],
   "source": [
    "# Use either filtered_listings for the national dataset or sfbay_filtered for the Bay Area subset\n",
    "\n",
    "import statsmodels.api as sm\n",
    "import numpy as np\n",
    "from patsy import dmatrices\n",
    "y, X = dmatrices('np.log(rent) ~ np.log(sqft) + bedrooms + bathrooms \\\n",
    "                 ', \n",
    "                 data=sf, return_type='dataframe')\n",
    "mod = sm.OLS(y, X)\n",
    "res = mod.fit()\n",
    "residuals = res.resid\n",
    "predicted = res.fittedvalues\n",
    "observed = y\n",
    "print(res.summary())"
   ]
  },
  {
   "cell_type": "code",
   "execution_count": null,
   "metadata": {},
   "outputs": [],
   "source": [
    "# Use either filtered_listings for the national dataset or sfbay_filtered for the Bay Area subset\n",
    "\n",
    "import statsmodels.api as sm\n",
    "import numpy as np\n",
    "from patsy import dmatrices\n",
    "y, X = dmatrices('np.log(rent) ~ np.log(sqft) + bedrooms + bathrooms  +\\\n",
    "                 np.log(bgmedinc) + lnjobs5000m + lnjobs40km + pctblack \\\n",
    "                  + pumahhden + pctrent + pct1per + pct2per + bgmedagehd  \\\n",
    "                 ', \n",
    "                 data=sf, return_type='dataframe')\n",
    "mod = sm.OLS(y, X)\n",
    "res = mod.fit()\n",
    "residuals = res.resid\n",
    "predicted = res.fittedvalues\n",
    "observed = y\n",
    "print(res.summary())"
   ]
  },
  {
   "cell_type": "code",
   "execution_count": null,
   "metadata": {},
   "outputs": [],
   "source": [
    "plt.hist(residuals, bins=25, normed=True, alpha=.5)\n",
    "mu = residuals.mean()\n",
    "variance = residuals.var()\n",
    "sigma = residuals.std()\n",
    "x = np.linspace(-3, 3, 100)\n",
    "plt.plot(x,mlab.normpdf(x, mu, sigma));"
   ]
  },
  {
   "cell_type": "code",
   "execution_count": null,
   "metadata": {},
   "outputs": [],
   "source": [
    "plt.figure(1, figsize=(10,8), )\n",
    "plt.plot([7, 9], [0, 0], c='b')\n",
    "plt.scatter(predicted, residuals, marker=0, s=2, c='g');\n",
    "plt.axis([7.25, 9, -1.5, 1.5])\n",
    "plt.show();"
   ]
  },
  {
   "cell_type": "code",
   "execution_count": null,
   "metadata": {},
   "outputs": [],
   "source": [
    "plt.figure(1, figsize=(10,8), )\n",
    "plt.plot([6, 9.5], [6, 9.5])\n",
    "plt.scatter(observed, predicted, marker=0, s=2, c='g')\n",
    "plt.axis([6.5, 9.5, 6.5, 9.5])\n",
    "plt.show();"
   ]
  },
  {
   "cell_type": "code",
   "execution_count": null,
   "metadata": {},
   "outputs": [],
   "source": [
    "print(residuals.mean())\n",
    "print(residuals.std())"
   ]
  },
  {
   "cell_type": "code",
   "execution_count": null,
   "metadata": {},
   "outputs": [],
   "source": [
    "# If we want to use WLS we need a useful set of weights. The default produces the same results as OLS \n",
    "mod = sm.WLS(y, X, weights=1.)\n",
    "res = mod.fit()\n",
    "print(res.summary())"
   ]
  },
  {
   "cell_type": "code",
   "execution_count": null,
   "metadata": {},
   "outputs": [],
   "source": [
    "# Warning, this is a very intensive process and will take a while\n",
    "%%time\n",
    "from pymc3 import Model, NUTS, sample\n",
    "from pymc3.glm import glm\n",
    "\n",
    "with Model() as model_glm:\n",
    "    glm('np.log(rent) ~ np.log(sqft) + bedrooms + bathrooms', sfbay_filtered)\n",
    "    trace = sample(5000)"
   ]
  },
  {
   "cell_type": "code",
   "execution_count": null,
   "metadata": {},
   "outputs": [],
   "source": [
    "from pymc3 import traceplot\n",
    "%matplotlib inline\n",
    "traceplot(trace);"
   ]
  },
  {
   "cell_type": "code",
   "execution_count": null,
   "metadata": {},
   "outputs": [],
   "source": [
    "from scipy import optimize\n",
    "from pymc3 import find_MAP\n",
    "with model_glm:\n",
    "\n",
    "    # obtain starting values via MAP\n",
    "    start = find_MAP(fmin=optimize.fmin_powell)\n",
    "\n",
    "    # draw 2000 posterior samples\n",
    "    trace = sample(5000, start=start)"
   ]
  },
  {
   "cell_type": "code",
   "execution_count": null,
   "metadata": {},
   "outputs": [],
   "source": [
    "traceplot(trace);"
   ]
  },
  {
   "cell_type": "code",
   "execution_count": null,
   "metadata": {
    "collapsed": true
   },
   "outputs": [],
   "source": [
    "import matplotlib.pyplot as plt\n",
    "import theano\n",
    "import pymc3 as pm"
   ]
  },
  {
   "cell_type": "code",
   "execution_count": null,
   "metadata": {},
   "outputs": [],
   "source": [
    "fig = plt.figure(figsize=(7, 7))\n",
    "ax = fig.add_subplot(111, xlabel='x', ylabel='y', title='Generated data and underlying model')\n",
    "ax.plot(np.log(sfbay['sqft']), np.log(sfbay['rent']), 'o', markersize=.5, color='blue', label='sampled data')\n",
    "#ax.plot(x, true_regression_line, label='true regression line', lw=2.)\n",
    "#pm.glm.plot_posterior_predictive(trace, samples=100,\n",
    "#                                 label='posterior predictive regression lines')\n",
    "plt.legend(loc=0);"
   ]
  },
  {
   "cell_type": "code",
   "execution_count": null,
   "metadata": {
    "collapsed": true
   },
   "outputs": [],
   "source": []
  }
 ],
 "metadata": {
  "anaconda-cloud": {},
  "kernelspec": {
   "display_name": "Python 3",
   "language": "python",
   "name": "python3"
  },
  "language_info": {
   "codemirror_mode": {
    "name": "ipython",
    "version": 3
   },
   "file_extension": ".py",
   "mimetype": "text/x-python",
   "name": "python",
   "nbconvert_exporter": "python",
   "pygments_lexer": "ipython3",
   "version": "3.6.3"
  }
 },
 "nbformat": 4,
 "nbformat_minor": 1
}
