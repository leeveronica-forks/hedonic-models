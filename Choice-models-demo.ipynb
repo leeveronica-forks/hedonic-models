{
 "cells": [
  {
   "cell_type": "markdown",
   "metadata": {},
   "source": [
    "## Demo of the ChoiceModels library\n",
    "\n",
    "For Binary Logit and Multinomial Logit, including sampling of alternatives.\n",
    "\n",
    "To install ChoiceModels, git clone the repository (https://github.com/ual/choicemodels)."
   ]
  },
  {
   "cell_type": "code",
   "execution_count": 1,
   "metadata": {
    "collapsed": false
   },
   "outputs": [],
   "source": [
    "import os; os.chdir('../choicemodels')\n",
    "import choicemodels"
   ]
  },
  {
   "cell_type": "code",
   "execution_count": 2,
   "metadata": {
    "collapsed": false
   },
   "outputs": [],
   "source": [
    "import numpy as np\n",
    "import pandas as pd\n",
    "\n",
    "import statsmodels.api as sm  # for binary logit\n",
    "from collections import OrderedDict  # for MNL model specifications"
   ]
  },
  {
   "cell_type": "markdown",
   "metadata": {},
   "source": [
    "### Binary Logit"
   ]
  },
  {
   "cell_type": "code",
   "execution_count": 3,
   "metadata": {
    "collapsed": false
   },
   "outputs": [
    {
     "name": "stdout",
     "output_type": "stream",
     "text": [
      "              x1         x2         x3          y\n",
      "count  50.000000  50.000000  50.000000  50.000000\n",
      "mean    0.529404   0.453265   0.475061   0.540000\n",
      "std     0.282240   0.282130   0.288494   0.503457\n",
      "min     0.009996   0.005031   0.043904   0.000000\n",
      "25%     0.282585   0.218973   0.190960   0.000000\n",
      "50%     0.533950   0.419010   0.480034   1.000000\n",
      "75%     0.749493   0.659642   0.711307   1.000000\n",
      "max     0.983582   0.993942   0.980646   1.000000\n"
     ]
    }
   ],
   "source": [
    "# Import or generate estimation data\n",
    "\n",
    "Y = np.random.randint(2, size=50)  # 50x1 vector of random 0's and 1's\n",
    "X = np.random.rand(50, 3)  # 50x3 matrix of random floats\n",
    "\n",
    "data = pd.DataFrame(data=X, columns=['x1','x2','x3'])\n",
    "data['y'] = Y\n",
    "\n",
    "print(data.describe())"
   ]
  },
  {
   "cell_type": "code",
   "execution_count": 4,
   "metadata": {
    "collapsed": false
   },
   "outputs": [
    {
     "name": "stdout",
     "output_type": "stream",
     "text": [
      "Optimization terminated successfully.\n",
      "         Current function value: 0.643666\n",
      "         Iterations 5\n",
      "                           Logit Regression Results                           \n",
      "==============================================================================\n",
      "Dep. Variable:                      y   No. Observations:                   50\n",
      "Model:                          Logit   Df Residuals:                       46\n",
      "Method:                           MLE   Df Model:                            3\n",
      "Date:                Fri, 17 Mar 2017   Pseudo R-squ.:                 0.06707\n",
      "Time:                        15:45:18   Log-Likelihood:                -32.183\n",
      "converged:                       True   LL-Null:                       -34.497\n",
      "                                        LLR p-value:                    0.2012\n",
      "==============================================================================\n",
      "                 coef    std err          z      P>|z|      [95.0% Conf. Int.]\n",
      "------------------------------------------------------------------------------\n",
      "Intercept     -0.4935      0.933     -0.529      0.597        -2.322     1.335\n",
      "x1             2.0809      1.114      1.868      0.062        -0.102     4.264\n",
      "x2            -0.9452      1.082     -0.874      0.382        -3.066     1.175\n",
      "x3            -0.0039      1.054     -0.004      0.997        -2.070     2.062\n",
      "==============================================================================\n"
     ]
    }
   ],
   "source": [
    "# Fit a model\n",
    "\n",
    "specification = 'y ~ x1 + x2 + x3'\n",
    "\n",
    "m = sm.Logit.from_formula(specification, data)\n",
    "results = m.fit()\n",
    "\n",
    "print(results.summary())"
   ]
  },
  {
   "cell_type": "code",
   "execution_count": null,
   "metadata": {
    "collapsed": false
   },
   "outputs": [],
   "source": []
  },
  {
   "cell_type": "code",
   "execution_count": null,
   "metadata": {
    "collapsed": true
   },
   "outputs": [],
   "source": []
  },
  {
   "cell_type": "markdown",
   "metadata": {},
   "source": [
    "### Multinomial Logit"
   ]
  },
  {
   "cell_type": "code",
   "execution_count": 5,
   "metadata": {
    "collapsed": true
   },
   "outputs": [],
   "source": [
    "# Import or generate estimation data\n",
    "\n",
    "def rand(len, min, max):\n",
    "    \"\"\" Generate `len` random floats uniformly distributed from `min` to `max` \"\"\"\n",
    "    return (max - min) * np.random.rand(len) + min\n",
    "\n",
    "numalts = 50  # alternatives\n",
    "X = np.concatenate((rand(numalts/2, 0, 10), rand(numalts/2, 100, 110)))\n",
    "\n",
    "numobs = 1000  # agents/observations\n",
    "beta = np.zeros(1000) + 1.5\n",
    "\n",
    "U = [[beta[n]*x + np.random.gumbel() for x in X] for n in range(numobs)]  # utility matrix\n",
    "\n",
    "choices = [np.argmax(a) for a in U]"
   ]
  },
  {
   "cell_type": "markdown",
   "metadata": {},
   "source": [
    "#### This is what the data looks like:\n",
    "\n",
    "- N = 1000 agents/observations with true taste coefficients in array \"beta\"\n",
    "- J = 50 alternatives with single attributes in array \"X\"\n",
    "- N choice outcomes in array \"choices\""
   ]
  },
  {
   "cell_type": "code",
   "execution_count": 6,
   "metadata": {
    "collapsed": true
   },
   "outputs": [],
   "source": [
    "# Set up the estimation dataset in long format\n",
    "\n",
    "d = [[n, i, int(choices[n]==i), X[i]] for n in range(numobs) for i in range(numalts)]\n",
    "df = pd.DataFrame(d, columns=['obs_id', 'alt_id', 'chosen', 'x'])"
   ]
  },
  {
   "cell_type": "code",
   "execution_count": 7,
   "metadata": {
    "collapsed": false
   },
   "outputs": [
    {
     "name": "stdout",
     "output_type": "stream",
     "text": [
      "             obs_id        alt_id        chosen             x\n",
      "count  50000.000000  50000.000000  50000.000000  50000.000000\n",
      "mean     499.500000     24.500000      0.020000     54.660992\n",
      "std      288.677877     14.431014      0.140001     50.201840\n",
      "min        0.000000      0.000000      0.000000      0.345308\n",
      "25%      249.750000     12.000000      0.000000      4.806394\n",
      "50%      499.500000     24.500000      0.000000     54.955417\n",
      "75%      749.250000     37.000000      0.000000    104.898746\n",
      "max      999.000000     49.000000      1.000000    109.878125\n"
     ]
    }
   ],
   "source": [
    "print(df.describe())"
   ]
  },
  {
   "cell_type": "code",
   "execution_count": 8,
   "metadata": {
    "collapsed": true
   },
   "outputs": [],
   "source": [
    "# Set up model spec\n",
    "\n",
    "spec = OrderedDict([('x', 'all_same')])\n",
    "labels = OrderedDict([('x', 'beta_x')])"
   ]
  },
  {
   "cell_type": "code",
   "execution_count": 9,
   "metadata": {
    "collapsed": true
   },
   "outputs": [],
   "source": [
    "def estimate_model(init_val):\n",
    "    \"\"\"\n",
    "    Initialize and fit a model, returning it as an object. Will use the \n",
    "    current values of `df`, `spec`, and `labels`.\n",
    "    \"\"\"\n",
    "    m = choicemodels.MNLogit(data = df, \n",
    "                             alt_id_col = 'alt_id',\n",
    "                             obs_id_col = 'obs_id', \n",
    "                             choice_col = 'chosen', \n",
    "                             specification = spec, \n",
    "                             names = labels)\n",
    "\n",
    "    results = m.fit_mle(init_vals = np.array([init_val]))\n",
    "    return results"
   ]
  },
  {
   "cell_type": "code",
   "execution_count": 10,
   "metadata": {
    "collapsed": false
   },
   "outputs": [
    {
     "name": "stdout",
     "output_type": "stream",
     "text": [
      "Log-likelihood at zero: -3,912.0230\n",
      "Initial Log-likelihood: -1,616.6744\n",
      "Estimation Time: 0.04 seconds.\n",
      "Final log-likelihood: -1,600.1060\n",
      "                     Multinomial Logit Model Regression Results                    \n",
      "===================================================================================\n",
      "Dep. Variable:                      chosen   No. Observations:                1,000\n",
      "Model:             Multinomial Logit Model   Df Residuals:                      999\n",
      "Method:                                MLE   Df Model:                            1\n",
      "Date:                     Fri, 17 Mar 2017   Pseudo R-squ.:                   0.591\n",
      "Time:                             15:45:40   Pseudo R-bar-squ.:               0.591\n",
      "converged:                            True   Log-Likelihood:             -1,600.106\n",
      "                                             LL-Null:                    -3,912.023\n",
      "==============================================================================\n",
      "                 coef    std err          z      P>|z|      [95.0% Conf. Int.]\n",
      "------------------------------------------------------------------------------\n",
      "beta_x         1.4231      0.040     35.555      0.000         1.345     1.502\n",
      "==============================================================================\n",
      "CPU times: user 10.2 s, sys: 19.4 s, total: 29.6 s\n",
      "Wall time: 12.2 s\n"
     ]
    },
    {
     "name": "stderr",
     "output_type": "stream",
     "text": [
      "/Users/smmaurer/anaconda/lib/python2.7/site-packages/scipy/optimize/_minimize.py:385: RuntimeWarning: Method BFGS does not use Hessian information (hess).\n",
      "  RuntimeWarning)\n"
     ]
    }
   ],
   "source": [
    "%%time\n",
    "results = estimate_model(init_val = 1.2)\n",
    "print(results.summary())"
   ]
  },
  {
   "cell_type": "code",
   "execution_count": null,
   "metadata": {
    "collapsed": true
   },
   "outputs": [],
   "source": []
  },
  {
   "cell_type": "code",
   "execution_count": null,
   "metadata": {
    "collapsed": true
   },
   "outputs": [],
   "source": []
  },
  {
   "cell_type": "markdown",
   "metadata": {},
   "source": [
    "## MNL with random sampling of alternatives\n",
    "\n",
    "This example reuses the data generated in the first cell under \"Multinomial Logit\" above."
   ]
  },
  {
   "cell_type": "code",
   "execution_count": 11,
   "metadata": {
    "collapsed": true
   },
   "outputs": [],
   "source": [
    "def alts(obs_id, C, K):\n",
    "    \"\"\"\n",
    "    This function generates a restricted choice set D for a particular\n",
    "    observation. Expects list `C` of alternatives to sample from (either\n",
    "    the full choice set or a stratrum), int `K` alternatives to sample,\n",
    "    and list `choices` of the alt_id chosen for each obs_id. Returns list \n",
    "    of K alt_id's including the chosen one.\n",
    "    \"\"\"\n",
    "    chosen = choices[obs_id]  # id of chosen alternative\n",
    "    unchosen = [i for i in C if chosen != i]  # id's of unchosen alts\n",
    "    sample_unchosen = np.random.choice(unchosen, size=K-1, replace=False).tolist()\n",
    "    return np.sort([chosen] + sample_unchosen)"
   ]
  },
  {
   "cell_type": "code",
   "execution_count": 12,
   "metadata": {
    "collapsed": true
   },
   "outputs": [],
   "source": [
    "# Set up the estimation dataset, which can use the same spec as earlier\n",
    "\n",
    "C = range(numalts)  # choice set to sample from\n",
    "K = 10\n",
    "\n",
    "d = [[n, i, int(choices[n]==i), X[i]] for n in range(numobs) for i in alts(n, C, K)]\n",
    "df = pd.DataFrame(d, columns=['obs_id', 'alt_id', 'chosen', 'x'])"
   ]
  },
  {
   "cell_type": "code",
   "execution_count": 13,
   "metadata": {
    "collapsed": false
   },
   "outputs": [
    {
     "name": "stdout",
     "output_type": "stream",
     "text": [
      "             obs_id        alt_id        chosen             x\n",
      "count  10000.000000  10000.000000  10000.000000  10000.000000\n",
      "mean     499.500000     25.412500      0.100000     58.908168\n",
      "std      288.689425     14.177512      0.300015     50.403752\n",
      "min        0.000000      0.000000      0.000000      0.345308\n",
      "25%      249.750000     13.000000      0.000000      4.937205\n",
      "50%      499.500000     27.000000      0.000000    100.318050\n",
      "75%      749.250000     36.000000      0.000000    106.243667\n",
      "max      999.000000     49.000000      1.000000    109.878125\n"
     ]
    }
   ],
   "source": [
    "print df.describe()"
   ]
  },
  {
   "cell_type": "code",
   "execution_count": 14,
   "metadata": {
    "collapsed": false
   },
   "outputs": [
    {
     "name": "stdout",
     "output_type": "stream",
     "text": [
      "Log-likelihood at zero: -2,302.5851\n",
      "Initial Log-likelihood: -549.2434\n",
      "Estimation Time: 0.01 seconds.\n",
      "Final log-likelihood: -545.0510\n",
      "                     Multinomial Logit Model Regression Results                    \n",
      "===================================================================================\n",
      "Dep. Variable:                      chosen   No. Observations:                1,000\n",
      "Model:             Multinomial Logit Model   Df Residuals:                      999\n",
      "Method:                                MLE   Df Model:                            1\n",
      "Date:                     Fri, 17 Mar 2017   Pseudo R-squ.:                   0.763\n",
      "Time:                             15:45:41   Pseudo R-bar-squ.:               0.763\n",
      "converged:                            True   Log-Likelihood:               -545.051\n",
      "                                             LL-Null:                    -2,302.585\n",
      "==============================================================================\n",
      "                 coef    std err          z      P>|z|      [95.0% Conf. Int.]\n",
      "------------------------------------------------------------------------------\n",
      "beta_x         1.3758      0.064     21.570      0.000         1.251     1.501\n",
      "==============================================================================\n",
      "CPU times: user 1.41 s, sys: 553 ms, total: 1.96 s\n",
      "Wall time: 680 ms\n"
     ]
    }
   ],
   "source": [
    "%%time\n",
    "results = estimate_model(init_val = 1.2)\n",
    "print results.summary()"
   ]
  },
  {
   "cell_type": "code",
   "execution_count": null,
   "metadata": {
    "collapsed": true
   },
   "outputs": [],
   "source": []
  },
  {
   "cell_type": "code",
   "execution_count": null,
   "metadata": {
    "collapsed": true
   },
   "outputs": [],
   "source": []
  },
  {
   "cell_type": "code",
   "execution_count": null,
   "metadata": {
    "collapsed": true
   },
   "outputs": [],
   "source": []
  },
  {
   "cell_type": "code",
   "execution_count": null,
   "metadata": {
    "collapsed": true
   },
   "outputs": [],
   "source": []
  }
 ],
 "metadata": {
  "kernelspec": {
   "display_name": "Python 2",
   "language": "python",
   "name": "python2"
  },
  "language_info": {
   "codemirror_mode": {
    "name": "ipython",
    "version": 2
   },
   "file_extension": ".py",
   "mimetype": "text/x-python",
   "name": "python",
   "nbconvert_exporter": "python",
   "pygments_lexer": "ipython2",
   "version": "2.7.11"
  }
 },
 "nbformat": 4,
 "nbformat_minor": 0
}
