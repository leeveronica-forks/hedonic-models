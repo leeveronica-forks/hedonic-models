{
 "cells": [
  {
   "cell_type": "markdown",
   "metadata": {},
   "source": [
    "## Tutorial on Hedonic Regression\n",
    "\n",
    "This material uses Python to demonstrate some aspects of hedonic regression. The objective here is not to learn to program, but to understand the hedonic regression methodology.  We begin with an example in which we generate some synthetic data using a set of coefficients and a mathematical model, and learn those coefficients using a statistical method called multiple regression."
   ]
  },
  {
   "cell_type": "markdown",
   "metadata": {},
   "source": [
    "The first part of this notebook follows closely the content in the Statsmodels online documentation. We won't try to provide the theoretical basis for regression models here.  You can consult any number of online resources for this, including Wikipedia's explanation of [Ordinary Least Squares Regression](https://en.wikipedia.org/wiki/Ordinary_least_squares). We will be using the Statsmodels library for this ([documentation here](http://statsmodels.sourceforge.net/stable/index.html)).\n",
    "\n",
    "The statistical model is assumed to be $Y = X\\beta + \\epsilon$, where $\\epsilon\\sim N\\left(0,\\sigma^{2}\\Sigma\\right)$\n",
    "\n",
    "Depending on the assumption on $\\Sigma$, Statsmodels have currently four classes available\n",
    "\n",
    "- GLS : generalized least squares for arbitrary covariance $\\Sigma$\n",
    "- OLS : ordinary least squares for i.i.d. errors $\\Sigma=\\textbf{I}$\n",
    "- WLS : weighted least squares for heteroskedastic errors $\\text{diag}\\left  (\\Sigma\\right)$\n",
    "- GLSAR : feasible generalized least squares with autocorrelated AR(p) errors $\\Sigma=\\Sigma\\left(\\rho\\right)$\n",
    "\n",
    "We focus here on the simple Ordinary Least Squares (OLS) model that is the most widely used, but makes strong assumptions about the errors being indepentently and identically distributed (i.i.d.).  When these conditions are met, the OLS parameter estimates are the Best Linear Unbiased Estimates (BLUE).\n",
    "\n",
    "More intuitively (perhaps), what linear regression using the OLS estimator attempts to do is find the vector of parameters ($\\beta$), such that when you compute a linear function $X\\beta$ you generate a predicted array of $\\hat{y}$ that, compared to the observed $y$, the squared sum of each observation's error ($\\epsilon_{i} = \\hat{y}_{i} - y_{i}$) across all the observations ($\\Sigma^{2}\\epsilon_{i}$), is minimized."
   ]
  },
  {
   "cell_type": "code",
   "execution_count": 1,
   "metadata": {
    "collapsed": true
   },
   "outputs": [],
   "source": [
    "# Startup steps\n",
    "import pandas as pd, numpy as np, statsmodels.api as sm\n",
    "import matplotlib.pyplot as plt, matplotlib.cm as cm, matplotlib.font_manager as fm\n",
    "import matplotlib.mlab as mlab\n",
    "from scipy.stats import pearsonr, ttest_rel\n",
    "%matplotlib inline"
   ]
  },
  {
   "cell_type": "markdown",
   "metadata": {},
   "source": [
    "To introduce concepts, let's begin by defining a hypothetical relationship between a dependent variable $y$ and an explanatory, or independent variable $x$.  \n",
    "\n",
    "We are only going to explore correlation, but there is an implicit causal story that x is influencing y, and not the other way around.\n",
    "\n",
    "Let's say we have a relationship in which y is expected to be twice the value of x.  A pretty simple model:\n",
    "$y = 2x$\n",
    "\n",
    "Another way to describe this is as a line with an intercept of zero: $y = 0 + 2x$\n",
    "We will look at it initially with no intercept and then add that in, before going to more than one independent variable.\n",
    "\n",
    "If we plot the 'model', we can see that at a value of x=0, the intercept is 0, so the value of y will be zero.  And at a value of x=10, the value of y is 2x = 2*10 = 20."
   ]
  },
  {
   "cell_type": "code",
   "execution_count": 2,
   "metadata": {
    "collapsed": false
   },
   "outputs": [
    {
     "data": {
      "image/png": "[encoded data removed]",
      "text/plain": [
       "<matplotlib.figure.Figure at 0x11498aa90>"
      ]
     },
     "metadata": {},
     "output_type": "display_data"
    }
   ],
   "source": [
    "plt.figure(1, figsize=(10,8), )\n",
    "plt.plot([0, 10], [0, 20])\n",
    "plt.axis([0, 10, 0, 20])\n",
    "plt.show();"
   ]
  },
  {
   "cell_type": "markdown",
   "metadata": {},
   "source": [
    "Now let's try to approximate real world data, in which we might be collecting observations of x and y, with some measurement error.  Let's impose the assumption that the observations will deviate from this line with some randomly distributed error.  We will use the standard assumption that the errors are normally distributed, like a bell curve, as is common.  We can use the equation for the model to generate points that would fall on the line above if there were no error, but we will add random errors to it to demonstrate how regression models work."
   ]
  },
  {
   "cell_type": "markdown",
   "metadata": {},
   "source": [
    "Generate data using a model we define:"
   ]
  },
  {
   "cell_type": "code",
   "execution_count": 3,
   "metadata": {
    "collapsed": false
   },
   "outputs": [],
   "source": [
    "nsample = 50\n",
    "x = np.linspace(0, 10, 50)\n",
    "X = x\n",
    "beta = np.array([0, 2])\n",
    "e = np.random.normal(size=nsample)\n",
    "X = sm.add_constant(X)\n",
    "y = np.dot(X, beta) + e"
   ]
  },
  {
   "cell_type": "markdown",
   "metadata": {},
   "source": [
    "Plot the data as a scatterplot. "
   ]
  },
  {
   "cell_type": "code",
   "execution_count": 4,
   "metadata": {
    "collapsed": false
   },
   "outputs": [
    {
     "data": {
      "image/png": "[encoded data removed]",
      "text/plain": [
       "<matplotlib.figure.Figure at 0x11491c050>"
      ]
     },
     "metadata": {},
     "output_type": "display_data"
    }
   ],
   "source": [
    "plt.figure(1, figsize=(10,8), )\n",
    "plt.scatter(x, y, marker=0, s=10, c='g')\n",
    "plt.axis([0, 10, 0, 20])\n",
    "plt.show();"
   ]
  },
  {
   "cell_type": "markdown",
   "metadata": {},
   "source": [
    "Add line based on Intercept = 0, beta = slope of line = 2\n",
    "\n",
    "Now we can see the original 'model' and the generated observations.  What regression analysis enables is to 'learn' the parameters of a model that most closely approximates the process that generated a set of observations.  In this case, we have a controlled setting, because we generated the data and know the 'true' values of the parameters of the model: intercept = 0, and slope of the line = beta = 2.\n",
    "\n",
    "Look at the plot below with the line superimposed on the 'observed' (generated) data.  We can intuit that if we tilted the line or shifted it up or down, and calculated the 'errors', or the distance of each point to the line, that the square of their sum would get bigger.  The reason for squaring is that if we didn't, the negative and positive errors would more or less cancel out.  So we can infer that the 'best fit' model parameters would be ones that minimize the sum of the squares errors between the observed data and the y values predicted by the model."
   ]
  },
  {
   "cell_type": "code",
   "execution_count": 5,
   "metadata": {
    "collapsed": false
   },
   "outputs": [
    {
     "data": {
      "image/png": "[encoded data removed]",
      "text/plain": [
       "<matplotlib.figure.Figure at 0x11771dbd0>"
      ]
     },
     "metadata": {},
     "output_type": "display_data"
    }
   ],
   "source": [
    "plt.figure(1, figsize=(10,8), )\n",
    "plt.plot([0, 10], [0, 20])\n",
    "plt.scatter(x, y, marker=0, s=10, c='g')\n",
    "plt.axis([0, 10, 0, 20])\n",
    "plt.show();"
   ]
  },
  {
   "cell_type": "markdown",
   "metadata": {},
   "source": [
    "Regenerate the data using an intercept = 2"
   ]
  },
  {
   "cell_type": "code",
   "execution_count": 6,
   "metadata": {
    "collapsed": true
   },
   "outputs": [],
   "source": [
    "nsample = 20\n",
    "x = np.linspace(0, 10, 20)\n",
    "X = x\n",
    "beta = np.array([2, 2])\n",
    "e = np.random.normal(size=nsample)\n",
    "X = sm.add_constant(X)\n",
    "y = np.dot(X, beta) + e"
   ]
  },
  {
   "cell_type": "markdown",
   "metadata": {},
   "source": [
    "### Specifying regression models using design matrices (dmatrices) in statsmodels\n",
    "\n",
    "To fit most of the models covered by statsmodels, you will need to create two design matrices. The first is a matrix of endogenous variable(s) (i.e. dependent, response, regressand, etc.). The second is a matrix of exogenous variable(s) (i.e. independent, predictor, regressor, etc.). The OLS coefficient estimates are calculated using linear algebra to find the parameters that minimize the sum of the squared errors:\n",
    "\n",
    "$$\\hat{\\beta} = (X'X)^{-1} X'y$$\n",
    "\n",
    "where $y$ is an $N \\times 1$ column of data on sales price. $X$ is $N \\times 2$ with an intercept and the x variable.\n"
   ]
  },
  {
   "cell_type": "markdown",
   "metadata": {},
   "source": [
    "Run a simple linear regression and compare the coefficients to the ones used to generate the data."
   ]
  },
  {
   "cell_type": "code",
   "execution_count": 7,
   "metadata": {
    "collapsed": false
   },
   "outputs": [
    {
     "name": "stdout",
     "output_type": "stream",
     "text": [
      "                            OLS Regression Results                            \n",
      "==============================================================================\n",
      "Dep. Variable:                      y   R-squared:                       0.975\n",
      "Model:                            OLS   Adj. R-squared:                  0.974\n",
      "Method:                 Least Squares   F-statistic:                     714.4\n",
      "Date:                Wed, 08 Mar 2017   Prob (F-statistic):           6.13e-16\n",
      "Time:                        09:46:04   Log-Likelihood:                -27.480\n",
      "No. Observations:                  20   AIC:                             58.96\n",
      "Df Residuals:                      18   BIC:                             60.95\n",
      "Df Model:                           1                                         \n",
      "Covariance Type:            nonrobust                                         \n",
      "==============================================================================\n",
      "                 coef    std err          t      P>|t|      [95.0% Conf. Int.]\n",
      "------------------------------------------------------------------------------\n",
      "const          2.2661      0.434      5.218      0.000         1.354     3.178\n",
      "x1             1.9847      0.074     26.729      0.000         1.829     2.141\n",
      "==============================================================================\n",
      "Omnibus:                        3.396   Durbin-Watson:                   1.955\n",
      "Prob(Omnibus):                  0.183   Jarque-Bera (JB):                1.688\n",
      "Skew:                          -0.400   Prob(JB):                        0.430\n",
      "Kurtosis:                       1.822   Cond. No.                         11.5\n",
      "==============================================================================\n",
      "\n",
      "Warnings:\n",
      "[1] Standard Errors assume that the covariance matrix of the errors is correctly specified.\n"
     ]
    }
   ],
   "source": [
    "model = sm.OLS(y, X)\n",
    "results = model.fit()\n",
    "print(results.summary())"
   ]
  },
  {
   "cell_type": "code",
   "execution_count": 8,
   "metadata": {
    "collapsed": false
   },
   "outputs": [
    {
     "name": "stdout",
     "output_type": "stream",
     "text": [
      "('Parameters: ', array([ 2.26606338,  1.9846515 ]))\n",
      "('Intercept =', 2.2660633804329802)\n",
      "('Beta = ', 1.984651495439955)\n",
      "('Rsquared = ', 0.97542413925618676)\n"
     ]
    }
   ],
   "source": [
    "print('Parameters: ', results.params)\n",
    "inter = results.params[0]\n",
    "beta = results.params[1]\n",
    "print('Intercept =', inter)\n",
    "print('Beta = ', beta)\n",
    "print('Rsquared = ', results.rsquared)"
   ]
  },
  {
   "cell_type": "markdown",
   "metadata": {},
   "source": [
    " Rsquared = Explained Variation / Total Variation\n",
    " \n",
    " Rsquared = 1 - (Unexplained Variation / Total Variation)\n",
    " \n",
    " Rsquared = 1 – (sum of squared residuals / sum of squared deviation of prices from the mean price)\n",
    " "
   ]
  },
  {
   "cell_type": "markdown",
   "metadata": {},
   "source": [
    "Plot the 'true' line using the original coefficients, and the 'predicted' line, using the estimated coefficients.  Try with smaller and larger samples."
   ]
  },
  {
   "cell_type": "code",
   "execution_count": 9,
   "metadata": {
    "collapsed": false
   },
   "outputs": [
    {
     "data": {
      "image/png": "[encoded data removed]",
      "text/plain": [
       "<matplotlib.figure.Figure at 0x11a44e750>"
      ]
     },
     "metadata": {},
     "output_type": "display_data"
    }
   ],
   "source": [
    "plt.figure(1, figsize=(10,8), )\n",
    "plt.plot([0, 10], [2, 22], c='r')\n",
    "plt.plot([0,10], [inter,(inter+10*beta)], c='b')\n",
    "plt.scatter(x, y, marker=0, s=10, c='g')\n",
    "plt.axis([0, 10, 0, 22])\n",
    "plt.show();"
   ]
  },
  {
   "cell_type": "markdown",
   "metadata": {
    "collapsed": true
   },
   "source": [
    "## Now on to some real data and Hedonic Regression\n",
    "\n",
    "We will use a large sample of single family housing sales from the San Francisco Bay Area to estimate a linear regression model in which the dependent variable $y$ is the price of a house at the time of sale, and $X$ is a set of exogenous, or explanatory variables.\n",
    "\n",
    "What exactly does this give us?  A statistical way to figure out what the component amenities in a house are worth, if you could buy them *a la carte*.  Another way to think of it is, how much do house buyers in the Bay Area during this period pay, on average, for an additional unit of each amenity: square foot of living space, bedroom, bathroom, etc.\n",
    "\n",
    "Here we use the sales transactions in San Francisco over a month from early-February through early-March.\n",
    "\n",
    "First we load the data from a csv file.  Then we rename columns to make the data easier to work with."
   ]
  },
  {
   "cell_type": "code",
   "execution_count": 10,
   "metadata": {
    "collapsed": false
   },
   "outputs": [
    {
     "data": {
      "text/plain": [
       "Index([u'SALE TYPE', u'SOLD DATE', u'PROPERTY TYPE', u'ADDRESS', u'CITY',\n",
       "       u'STATE', u'ZIP', u'PRICE', u'BEDS', u'BATHS', u'LOCATION',\n",
       "       u'SQUARE FEET', u'LOT SIZE', u'YEAR BUILT', u'DAYS ON MARKET',\n",
       "       u'$/SQUARE FEET', u'HOA/MONTH', u'STATUS',\n",
       "       u'NEXT OPEN HOUSE START TIME', u'NEXT OPEN HOUSE END TIME',\n",
       "       u'URL (SEE http://www.redfin.com/buy-a-home/comparative-market-analysis FOR INFO ON PRICING)',\n",
       "       u'SOURCE', u'MLS#', u'FAVORITE', u'INTERESTED', u'LATITUDE',\n",
       "       u'LONGITUDE'],\n",
       "      dtype='object')"
      ]
     },
     "execution_count": 10,
     "metadata": {},
     "output_type": "execute_result"
    }
   ],
   "source": [
    "sf = pd.read_csv('data/redfin_2017-03-05-17-45-34-san-francisco-county-1-month.csv')\n",
    "sf.columns"
   ]
  },
  {
   "cell_type": "code",
   "execution_count": 11,
   "metadata": {
    "collapsed": false
   },
   "outputs": [
    {
     "data": {
      "text/html": [
       "<div>\n",
       "<table border=\"1\" class=\"dataframe\">\n",
       "  <thead>\n",
       "    <tr style=\"text-align: right;\">\n",
       "      <th></th>\n",
       "      <th>saletype</th>\n",
       "      <th>solddate</th>\n",
       "      <th>proptype</th>\n",
       "      <th>address</th>\n",
       "      <th>city</th>\n",
       "      <th>state</th>\n",
       "      <th>zip</th>\n",
       "      <th>price</th>\n",
       "      <th>beds</th>\n",
       "      <th>baths</th>\n",
       "      <th>...</th>\n",
       "      <th>status</th>\n",
       "      <th>nextopenstart</th>\n",
       "      <th>nextopenend</th>\n",
       "      <th>url</th>\n",
       "      <th>source</th>\n",
       "      <th>mls</th>\n",
       "      <th>favorite</th>\n",
       "      <th>interested</th>\n",
       "      <th>latitude</th>\n",
       "      <th>longitude</th>\n",
       "    </tr>\n",
       "  </thead>\n",
       "  <tbody>\n",
       "    <tr>\n",
       "      <th>0</th>\n",
       "      <td>PAST SALE</td>\n",
       "      <td>February-7-2017</td>\n",
       "      <td>Single Family Residential</td>\n",
       "      <td>521 Cayuga Ave</td>\n",
       "      <td>San Francisco</td>\n",
       "      <td>CA</td>\n",
       "      <td>94112.0</td>\n",
       "      <td>1200000.0</td>\n",
       "      <td>2.0</td>\n",
       "      <td>1.25</td>\n",
       "      <td>...</td>\n",
       "      <td>Sold</td>\n",
       "      <td>NaN</td>\n",
       "      <td>NaN</td>\n",
       "      <td>http://www.redfin.com/CA/San-Francisco/521-Cay...</td>\n",
       "      <td>San Francisco MLS</td>\n",
       "      <td>453167</td>\n",
       "      <td>N</td>\n",
       "      <td>Y</td>\n",
       "      <td>37.728860</td>\n",
       "      <td>-122.435308</td>\n",
       "    </tr>\n",
       "    <tr>\n",
       "      <th>1</th>\n",
       "      <td>PAST SALE</td>\n",
       "      <td>February-10-2017</td>\n",
       "      <td>Condo/Co-op</td>\n",
       "      <td>95 Red Rock Way Unit 105M</td>\n",
       "      <td>San Francisco</td>\n",
       "      <td>CA</td>\n",
       "      <td>94131.0</td>\n",
       "      <td>590000.0</td>\n",
       "      <td>0.0</td>\n",
       "      <td>1.00</td>\n",
       "      <td>...</td>\n",
       "      <td>Sold</td>\n",
       "      <td>NaN</td>\n",
       "      <td>NaN</td>\n",
       "      <td>http://www.redfin.com/CA/San-Francisco/95-Red-...</td>\n",
       "      <td>San Francisco MLS</td>\n",
       "      <td>452726</td>\n",
       "      <td>N</td>\n",
       "      <td>Y</td>\n",
       "      <td>37.746324</td>\n",
       "      <td>-122.441517</td>\n",
       "    </tr>\n",
       "    <tr>\n",
       "      <th>2</th>\n",
       "      <td>PAST SALE</td>\n",
       "      <td>February-10-2017</td>\n",
       "      <td>Single Family Residential</td>\n",
       "      <td>3157 Baker St</td>\n",
       "      <td>San Francisco</td>\n",
       "      <td>CA</td>\n",
       "      <td>94123.0</td>\n",
       "      <td>3260000.0</td>\n",
       "      <td>5.0</td>\n",
       "      <td>3.50</td>\n",
       "      <td>...</td>\n",
       "      <td>Sold</td>\n",
       "      <td>NaN</td>\n",
       "      <td>NaN</td>\n",
       "      <td>http://www.redfin.com/CA/San-Francisco/3157-Ba...</td>\n",
       "      <td>San Francisco MLS</td>\n",
       "      <td>451943</td>\n",
       "      <td>N</td>\n",
       "      <td>Y</td>\n",
       "      <td>37.800218</td>\n",
       "      <td>-122.446455</td>\n",
       "    </tr>\n",
       "    <tr>\n",
       "      <th>3</th>\n",
       "      <td>PAST SALE</td>\n",
       "      <td>February-17-2017</td>\n",
       "      <td>Single Family Residential</td>\n",
       "      <td>2594 San Jose Ave</td>\n",
       "      <td>San Francisco</td>\n",
       "      <td>CA</td>\n",
       "      <td>94112.0</td>\n",
       "      <td>920000.0</td>\n",
       "      <td>3.0</td>\n",
       "      <td>2.00</td>\n",
       "      <td>...</td>\n",
       "      <td>Sold</td>\n",
       "      <td>NaN</td>\n",
       "      <td>NaN</td>\n",
       "      <td>http://www.redfin.com/CA/San-Francisco/2594-Sa...</td>\n",
       "      <td>MetroList</td>\n",
       "      <td>16067859</td>\n",
       "      <td>N</td>\n",
       "      <td>Y</td>\n",
       "      <td>37.716435</td>\n",
       "      <td>-122.450444</td>\n",
       "    </tr>\n",
       "    <tr>\n",
       "      <th>4</th>\n",
       "      <td>PAST SALE</td>\n",
       "      <td>February-27-2017</td>\n",
       "      <td>Single Family Residential</td>\n",
       "      <td>130 Brazil Ave</td>\n",
       "      <td>SAN FRANCISCO</td>\n",
       "      <td>CA</td>\n",
       "      <td>94112.0</td>\n",
       "      <td>790000.0</td>\n",
       "      <td>2.0</td>\n",
       "      <td>1.00</td>\n",
       "      <td>...</td>\n",
       "      <td>Sold</td>\n",
       "      <td>NaN</td>\n",
       "      <td>NaN</td>\n",
       "      <td>http://www.redfin.com/CA/San-Francisco/130-Bra...</td>\n",
       "      <td>MLSListings</td>\n",
       "      <td>ML81635907</td>\n",
       "      <td>N</td>\n",
       "      <td>Y</td>\n",
       "      <td>37.723920</td>\n",
       "      <td>-122.433735</td>\n",
       "    </tr>\n",
       "  </tbody>\n",
       "</table>\n",
       "<p>5 rows × 27 columns</p>\n",
       "</div>"
      ],
      "text/plain": [
       "    saletype          solddate                   proptype  \\\n",
       "0  PAST SALE   February-7-2017  Single Family Residential   \n",
       "1  PAST SALE  February-10-2017                Condo/Co-op   \n",
       "2  PAST SALE  February-10-2017  Single Family Residential   \n",
       "3  PAST SALE  February-17-2017  Single Family Residential   \n",
       "4  PAST SALE  February-27-2017  Single Family Residential   \n",
       "\n",
       "                     address           city state      zip      price  beds  \\\n",
       "0             521 Cayuga Ave  San Francisco    CA  94112.0  1200000.0   2.0   \n",
       "1  95 Red Rock Way Unit 105M  San Francisco    CA  94131.0   590000.0   0.0   \n",
       "2              3157 Baker St  San Francisco    CA  94123.0  3260000.0   5.0   \n",
       "3          2594 San Jose Ave  San Francisco    CA  94112.0   920000.0   3.0   \n",
       "4             130 Brazil Ave  SAN FRANCISCO    CA  94112.0   790000.0   2.0   \n",
       "\n",
       "   baths     ...     status  nextopenstart  nextopenend  \\\n",
       "0   1.25     ...       Sold            NaN          NaN   \n",
       "1   1.00     ...       Sold            NaN          NaN   \n",
       "2   3.50     ...       Sold            NaN          NaN   \n",
       "3   2.00     ...       Sold            NaN          NaN   \n",
       "4   1.00     ...       Sold            NaN          NaN   \n",
       "\n",
       "                                                 url             source  \\\n",
       "0  http://www.redfin.com/CA/San-Francisco/521-Cay...  San Francisco MLS   \n",
       "1  http://www.redfin.com/CA/San-Francisco/95-Red-...  San Francisco MLS   \n",
       "2  http://www.redfin.com/CA/San-Francisco/3157-Ba...  San Francisco MLS   \n",
       "3  http://www.redfin.com/CA/San-Francisco/2594-Sa...          MetroList   \n",
       "4  http://www.redfin.com/CA/San-Francisco/130-Bra...        MLSListings   \n",
       "\n",
       "          mls  favorite interested   latitude   longitude  \n",
       "0      453167         N          Y  37.728860 -122.435308  \n",
       "1      452726         N          Y  37.746324 -122.441517  \n",
       "2      451943         N          Y  37.800218 -122.446455  \n",
       "3    16067859         N          Y  37.716435 -122.450444  \n",
       "4  ML81635907         N          Y  37.723920 -122.433735  \n",
       "\n",
       "[5 rows x 27 columns]"
      ]
     },
     "execution_count": 11,
     "metadata": {},
     "output_type": "execute_result"
    }
   ],
   "source": [
    "sf1 = sf.rename(index=str, columns={'SALE TYPE': 'saletype',\n",
    "    'SOLD DATE': 'solddate', 'PROPERTY TYPE': 'proptype', 'ADDRESS': 'address',\n",
    "    'CITY': 'city', 'STATE': 'state', 'ZIP': 'zip', 'PRICE': 'price', 'BEDS': 'beds',\n",
    "    'BATHS': 'baths', 'LOCATION': 'location', 'SQUARE FEET': 'sqft', 'LOT SIZE': 'lotsize',\n",
    "    'YEAR BUILT': 'yrbuilt', 'DAYS ON MARKET': 'daysonmkt', '$/SQUARE FEET': 'pricesqft',\n",
    "    'LATITUDE': 'latitude', 'LONGITUDE': 'longitude', 'HOA/MONTH': 'hoamonth',\n",
    "    'URL (SEE http://www.redfin.com/buy-a-home/comparative-market-analysis FOR INFO ON PRICING)': 'url',\n",
    "    'STATUS': 'status', 'NEXT OPEN HOUSE START TIME': 'nextopenstart', 'NEXT OPEN HOUSE END TIME': 'nextopenend',\n",
    "    'SOURCE': 'source', 'MLS#': 'mls', 'FAVORITE': 'favorite', 'INTERESTED': 'interested'\n",
    "    })\n",
    "\n",
    "sf1.head()"
   ]
  },
  {
   "cell_type": "code",
   "execution_count": 12,
   "metadata": {
    "collapsed": false
   },
   "outputs": [
    {
     "data": {
      "text/html": [
       "<div>\n",
       "<table border=\"1\" class=\"dataframe\">\n",
       "  <thead>\n",
       "    <tr style=\"text-align: right;\">\n",
       "      <th></th>\n",
       "      <th>zip</th>\n",
       "      <th>price</th>\n",
       "      <th>beds</th>\n",
       "      <th>baths</th>\n",
       "      <th>sqft</th>\n",
       "      <th>lotsize</th>\n",
       "      <th>yrbuilt</th>\n",
       "      <th>daysonmkt</th>\n",
       "      <th>pricesqft</th>\n",
       "      <th>hoamonth</th>\n",
       "      <th>nextopenstart</th>\n",
       "      <th>nextopenend</th>\n",
       "      <th>latitude</th>\n",
       "      <th>longitude</th>\n",
       "    </tr>\n",
       "  </thead>\n",
       "  <tbody>\n",
       "    <tr>\n",
       "      <th>count</th>\n",
       "      <td>308.000000</td>\n",
       "      <td>3.080000e+02</td>\n",
       "      <td>301.000000</td>\n",
       "      <td>293.000000</td>\n",
       "      <td>266.000000</td>\n",
       "      <td>139.000000</td>\n",
       "      <td>288.000000</td>\n",
       "      <td>306.00000</td>\n",
       "      <td>264.000000</td>\n",
       "      <td>159.000000</td>\n",
       "      <td>0.0</td>\n",
       "      <td>0.0</td>\n",
       "      <td>309.000000</td>\n",
       "      <td>309.000000</td>\n",
       "    </tr>\n",
       "    <tr>\n",
       "      <th>mean</th>\n",
       "      <td>93888.253247</td>\n",
       "      <td>1.521055e+06</td>\n",
       "      <td>2.647841</td>\n",
       "      <td>1.880546</td>\n",
       "      <td>1662.593985</td>\n",
       "      <td>3194.935252</td>\n",
       "      <td>1952.006944</td>\n",
       "      <td>14.30719</td>\n",
       "      <td>949.905303</td>\n",
       "      <td>543.874214</td>\n",
       "      <td>NaN</td>\n",
       "      <td>NaN</td>\n",
       "      <td>37.760820</td>\n",
       "      <td>-122.431289</td>\n",
       "    </tr>\n",
       "    <tr>\n",
       "      <th>std</th>\n",
       "      <td>2820.378426</td>\n",
       "      <td>1.063400e+06</td>\n",
       "      <td>1.862499</td>\n",
       "      <td>0.896519</td>\n",
       "      <td>1169.031917</td>\n",
       "      <td>4656.050424</td>\n",
       "      <td>39.950230</td>\n",
       "      <td>8.87308</td>\n",
       "      <td>279.135062</td>\n",
       "      <td>436.562243</td>\n",
       "      <td>NaN</td>\n",
       "      <td>NaN</td>\n",
       "      <td>0.025052</td>\n",
       "      <td>0.027834</td>\n",
       "    </tr>\n",
       "    <tr>\n",
       "      <th>min</th>\n",
       "      <td>59059.000000</td>\n",
       "      <td>3.500000e+03</td>\n",
       "      <td>0.000000</td>\n",
       "      <td>1.000000</td>\n",
       "      <td>300.000000</td>\n",
       "      <td>611.000000</td>\n",
       "      <td>1885.000000</td>\n",
       "      <td>2.00000</td>\n",
       "      <td>339.000000</td>\n",
       "      <td>4.000000</td>\n",
       "      <td>NaN</td>\n",
       "      <td>NaN</td>\n",
       "      <td>37.709249</td>\n",
       "      <td>-122.510730</td>\n",
       "    </tr>\n",
       "    <tr>\n",
       "      <th>25%</th>\n",
       "      <td>94109.000000</td>\n",
       "      <td>8.787500e+05</td>\n",
       "      <td>2.000000</td>\n",
       "      <td>1.000000</td>\n",
       "      <td>978.750000</td>\n",
       "      <td>2319.500000</td>\n",
       "      <td>1916.750000</td>\n",
       "      <td>6.00000</td>\n",
       "      <td>773.750000</td>\n",
       "      <td>342.500000</td>\n",
       "      <td>NaN</td>\n",
       "      <td>NaN</td>\n",
       "      <td>37.739065</td>\n",
       "      <td>-122.443876</td>\n",
       "    </tr>\n",
       "    <tr>\n",
       "      <th>50%</th>\n",
       "      <td>94114.000000</td>\n",
       "      <td>1.271000e+06</td>\n",
       "      <td>2.000000</td>\n",
       "      <td>2.000000</td>\n",
       "      <td>1360.000000</td>\n",
       "      <td>2513.000000</td>\n",
       "      <td>1941.000000</td>\n",
       "      <td>12.00000</td>\n",
       "      <td>963.500000</td>\n",
       "      <td>473.000000</td>\n",
       "      <td>NaN</td>\n",
       "      <td>NaN</td>\n",
       "      <td>37.762549</td>\n",
       "      <td>-122.428527</td>\n",
       "    </tr>\n",
       "    <tr>\n",
       "      <th>75%</th>\n",
       "      <td>94122.000000</td>\n",
       "      <td>1.813750e+06</td>\n",
       "      <td>3.000000</td>\n",
       "      <td>2.000000</td>\n",
       "      <td>1904.750000</td>\n",
       "      <td>3090.000000</td>\n",
       "      <td>1996.000000</td>\n",
       "      <td>23.00000</td>\n",
       "      <td>1106.000000</td>\n",
       "      <td>683.000000</td>\n",
       "      <td>NaN</td>\n",
       "      <td>NaN</td>\n",
       "      <td>37.781520</td>\n",
       "      <td>-122.412238</td>\n",
       "    </tr>\n",
       "    <tr>\n",
       "      <th>max</th>\n",
       "      <td>94158.000000</td>\n",
       "      <td>1.025000e+07</td>\n",
       "      <td>18.000000</td>\n",
       "      <td>5.500000</td>\n",
       "      <td>9504.000000</td>\n",
       "      <td>56024.000000</td>\n",
       "      <td>2017.000000</td>\n",
       "      <td>30.00000</td>\n",
       "      <td>2053.000000</td>\n",
       "      <td>4413.000000</td>\n",
       "      <td>NaN</td>\n",
       "      <td>NaN</td>\n",
       "      <td>37.805816</td>\n",
       "      <td>-122.371007</td>\n",
       "    </tr>\n",
       "  </tbody>\n",
       "</table>\n",
       "</div>"
      ],
      "text/plain": [
       "                zip         price        beds       baths         sqft  \\\n",
       "count    308.000000  3.080000e+02  301.000000  293.000000   266.000000   \n",
       "mean   93888.253247  1.521055e+06    2.647841    1.880546  1662.593985   \n",
       "std     2820.378426  1.063400e+06    1.862499    0.896519  1169.031917   \n",
       "min    59059.000000  3.500000e+03    0.000000    1.000000   300.000000   \n",
       "25%    94109.000000  8.787500e+05    2.000000    1.000000   978.750000   \n",
       "50%    94114.000000  1.271000e+06    2.000000    2.000000  1360.000000   \n",
       "75%    94122.000000  1.813750e+06    3.000000    2.000000  1904.750000   \n",
       "max    94158.000000  1.025000e+07   18.000000    5.500000  9504.000000   \n",
       "\n",
       "            lotsize      yrbuilt  daysonmkt    pricesqft     hoamonth  \\\n",
       "count    139.000000   288.000000  306.00000   264.000000   159.000000   \n",
       "mean    3194.935252  1952.006944   14.30719   949.905303   543.874214   \n",
       "std     4656.050424    39.950230    8.87308   279.135062   436.562243   \n",
       "min      611.000000  1885.000000    2.00000   339.000000     4.000000   \n",
       "25%     2319.500000  1916.750000    6.00000   773.750000   342.500000   \n",
       "50%     2513.000000  1941.000000   12.00000   963.500000   473.000000   \n",
       "75%     3090.000000  1996.000000   23.00000  1106.000000   683.000000   \n",
       "max    56024.000000  2017.000000   30.00000  2053.000000  4413.000000   \n",
       "\n",
       "       nextopenstart  nextopenend    latitude   longitude  \n",
       "count            0.0          0.0  309.000000  309.000000  \n",
       "mean             NaN          NaN   37.760820 -122.431289  \n",
       "std              NaN          NaN    0.025052    0.027834  \n",
       "min              NaN          NaN   37.709249 -122.510730  \n",
       "25%              NaN          NaN   37.739065 -122.443876  \n",
       "50%              NaN          NaN   37.762549 -122.428527  \n",
       "75%              NaN          NaN   37.781520 -122.412238  \n",
       "max              NaN          NaN   37.805816 -122.371007  "
      ]
     },
     "execution_count": 12,
     "metadata": {},
     "output_type": "execute_result"
    }
   ],
   "source": [
    "sf1.describe()"
   ]
  },
  {
   "cell_type": "markdown",
   "metadata": {},
   "source": [
    "### Here is a scatterplot of sqft and price"
   ]
  },
  {
   "cell_type": "code",
   "execution_count": 13,
   "metadata": {
    "collapsed": false
   },
   "outputs": [
    {
     "data": {
      "image/png": "[encoded data removed]",
      "text/plain": [
       "<matplotlib.figure.Figure at 0x11a5b68d0>"
      ]
     },
     "metadata": {},
     "output_type": "display_data"
    }
   ],
   "source": [
    "plt.figure(1, figsize=(10,8), )\n",
    "plt.scatter(sf1['sqft'], sf1['price'], marker=0, s=10, c='g')\n",
    "#plt.axis([12, 16, 12, 16])\n",
    "plt.show();"
   ]
  },
  {
   "cell_type": "markdown",
   "metadata": {},
   "source": [
    "### Here is a scatterplot of beds and price"
   ]
  },
  {
   "cell_type": "code",
   "execution_count": 14,
   "metadata": {
    "collapsed": false
   },
   "outputs": [
    {
     "data": {
      "image/png": "[encoded data removed]",
      "text/plain": [
       "<matplotlib.figure.Figure at 0x11a446850>"
      ]
     },
     "metadata": {},
     "output_type": "display_data"
    }
   ],
   "source": [
    "plt.figure(1, figsize=(10,8), )\n",
    "plt.scatter(sf1['beds'], sf1['price'], marker=0, s=10, c='g')\n",
    "#plt.axis([12, 16, 12, 16])\n",
    "plt.show();"
   ]
  },
  {
   "cell_type": "markdown",
   "metadata": {},
   "source": [
    "### Evaluating correlations among multiple variables and price\n",
    "What if we want to know how price is affected by both sqft and beds, and other variables as well?  We would generally use multiple regression."
   ]
  },
  {
   "cell_type": "markdown",
   "metadata": {},
   "source": [
    "## Recoding variables\n",
    "\n",
    "Sometimes variables have larger values than you intend to use. You can either drop those records, or recode the data so that values above some limit are capped at that limit."
   ]
  },
  {
   "cell_type": "code",
   "execution_count": null,
   "metadata": {
    "collapsed": true
   },
   "outputs": [],
   "source": []
  },
  {
   "cell_type": "code",
   "execution_count": 15,
   "metadata": {
    "collapsed": false
   },
   "outputs": [],
   "source": [
    "sf1['beds4'] = sf1['beds']\n",
    "sf1['baths4'] = sf1['baths']"
   ]
  },
  {
   "cell_type": "code",
   "execution_count": 16,
   "metadata": {
    "collapsed": false
   },
   "outputs": [
    {
     "data": {
      "text/html": [
       "<div>\n",
       "<table border=\"1\" class=\"dataframe\">\n",
       "  <thead>\n",
       "    <tr style=\"text-align: right;\">\n",
       "      <th></th>\n",
       "      <th>zip</th>\n",
       "      <th>price</th>\n",
       "      <th>beds</th>\n",
       "      <th>baths</th>\n",
       "      <th>sqft</th>\n",
       "      <th>lotsize</th>\n",
       "      <th>yrbuilt</th>\n",
       "      <th>daysonmkt</th>\n",
       "      <th>pricesqft</th>\n",
       "      <th>hoamonth</th>\n",
       "      <th>nextopenstart</th>\n",
       "      <th>nextopenend</th>\n",
       "      <th>latitude</th>\n",
       "      <th>longitude</th>\n",
       "      <th>beds4</th>\n",
       "      <th>baths4</th>\n",
       "    </tr>\n",
       "  </thead>\n",
       "  <tbody>\n",
       "    <tr>\n",
       "      <th>count</th>\n",
       "      <td>308.000000</td>\n",
       "      <td>3.080000e+02</td>\n",
       "      <td>301.000000</td>\n",
       "      <td>293.000000</td>\n",
       "      <td>266.000000</td>\n",
       "      <td>139.000000</td>\n",
       "      <td>288.000000</td>\n",
       "      <td>306.00000</td>\n",
       "      <td>264.000000</td>\n",
       "      <td>159.000000</td>\n",
       "      <td>0.0</td>\n",
       "      <td>0.0</td>\n",
       "      <td>309.000000</td>\n",
       "      <td>309.000000</td>\n",
       "      <td>301.000000</td>\n",
       "      <td>293.000000</td>\n",
       "    </tr>\n",
       "    <tr>\n",
       "      <th>mean</th>\n",
       "      <td>93888.253247</td>\n",
       "      <td>1.521055e+06</td>\n",
       "      <td>2.647841</td>\n",
       "      <td>1.880546</td>\n",
       "      <td>1662.593985</td>\n",
       "      <td>3194.935252</td>\n",
       "      <td>1952.006944</td>\n",
       "      <td>14.30719</td>\n",
       "      <td>949.905303</td>\n",
       "      <td>543.874214</td>\n",
       "      <td>NaN</td>\n",
       "      <td>NaN</td>\n",
       "      <td>37.760820</td>\n",
       "      <td>-122.431289</td>\n",
       "      <td>2.647841</td>\n",
       "      <td>1.880546</td>\n",
       "    </tr>\n",
       "    <tr>\n",
       "      <th>std</th>\n",
       "      <td>2820.378426</td>\n",
       "      <td>1.063400e+06</td>\n",
       "      <td>1.862499</td>\n",
       "      <td>0.896519</td>\n",
       "      <td>1169.031917</td>\n",
       "      <td>4656.050424</td>\n",
       "      <td>39.950230</td>\n",
       "      <td>8.87308</td>\n",
       "      <td>279.135062</td>\n",
       "      <td>436.562243</td>\n",
       "      <td>NaN</td>\n",
       "      <td>NaN</td>\n",
       "      <td>0.025052</td>\n",
       "      <td>0.027834</td>\n",
       "      <td>1.862499</td>\n",
       "      <td>0.896519</td>\n",
       "    </tr>\n",
       "    <tr>\n",
       "      <th>min</th>\n",
       "      <td>59059.000000</td>\n",
       "      <td>3.500000e+03</td>\n",
       "      <td>0.000000</td>\n",
       "      <td>1.000000</td>\n",
       "      <td>300.000000</td>\n",
       "      <td>611.000000</td>\n",
       "      <td>1885.000000</td>\n",
       "      <td>2.00000</td>\n",
       "      <td>339.000000</td>\n",
       "      <td>4.000000</td>\n",
       "      <td>NaN</td>\n",
       "      <td>NaN</td>\n",
       "      <td>37.709249</td>\n",
       "      <td>-122.510730</td>\n",
       "      <td>0.000000</td>\n",
       "      <td>1.000000</td>\n",
       "    </tr>\n",
       "    <tr>\n",
       "      <th>25%</th>\n",
       "      <td>94109.000000</td>\n",
       "      <td>8.787500e+05</td>\n",
       "      <td>2.000000</td>\n",
       "      <td>1.000000</td>\n",
       "      <td>978.750000</td>\n",
       "      <td>2319.500000</td>\n",
       "      <td>1916.750000</td>\n",
       "      <td>6.00000</td>\n",
       "      <td>773.750000</td>\n",
       "      <td>342.500000</td>\n",
       "      <td>NaN</td>\n",
       "      <td>NaN</td>\n",
       "      <td>37.739065</td>\n",
       "      <td>-122.443876</td>\n",
       "      <td>2.000000</td>\n",
       "      <td>1.000000</td>\n",
       "    </tr>\n",
       "    <tr>\n",
       "      <th>50%</th>\n",
       "      <td>94114.000000</td>\n",
       "      <td>1.271000e+06</td>\n",
       "      <td>2.000000</td>\n",
       "      <td>2.000000</td>\n",
       "      <td>1360.000000</td>\n",
       "      <td>2513.000000</td>\n",
       "      <td>1941.000000</td>\n",
       "      <td>12.00000</td>\n",
       "      <td>963.500000</td>\n",
       "      <td>473.000000</td>\n",
       "      <td>NaN</td>\n",
       "      <td>NaN</td>\n",
       "      <td>37.762549</td>\n",
       "      <td>-122.428527</td>\n",
       "      <td>2.000000</td>\n",
       "      <td>2.000000</td>\n",
       "    </tr>\n",
       "    <tr>\n",
       "      <th>75%</th>\n",
       "      <td>94122.000000</td>\n",
       "      <td>1.813750e+06</td>\n",
       "      <td>3.000000</td>\n",
       "      <td>2.000000</td>\n",
       "      <td>1904.750000</td>\n",
       "      <td>3090.000000</td>\n",
       "      <td>1996.000000</td>\n",
       "      <td>23.00000</td>\n",
       "      <td>1106.000000</td>\n",
       "      <td>683.000000</td>\n",
       "      <td>NaN</td>\n",
       "      <td>NaN</td>\n",
       "      <td>37.781520</td>\n",
       "      <td>-122.412238</td>\n",
       "      <td>3.000000</td>\n",
       "      <td>2.000000</td>\n",
       "    </tr>\n",
       "    <tr>\n",
       "      <th>max</th>\n",
       "      <td>94158.000000</td>\n",
       "      <td>1.025000e+07</td>\n",
       "      <td>18.000000</td>\n",
       "      <td>5.500000</td>\n",
       "      <td>9504.000000</td>\n",
       "      <td>56024.000000</td>\n",
       "      <td>2017.000000</td>\n",
       "      <td>30.00000</td>\n",
       "      <td>2053.000000</td>\n",
       "      <td>4413.000000</td>\n",
       "      <td>NaN</td>\n",
       "      <td>NaN</td>\n",
       "      <td>37.805816</td>\n",
       "      <td>-122.371007</td>\n",
       "      <td>18.000000</td>\n",
       "      <td>5.500000</td>\n",
       "    </tr>\n",
       "  </tbody>\n",
       "</table>\n",
       "</div>"
      ],
      "text/plain": [
       "                zip         price        beds       baths         sqft  \\\n",
       "count    308.000000  3.080000e+02  301.000000  293.000000   266.000000   \n",
       "mean   93888.253247  1.521055e+06    2.647841    1.880546  1662.593985   \n",
       "std     2820.378426  1.063400e+06    1.862499    0.896519  1169.031917   \n",
       "min    59059.000000  3.500000e+03    0.000000    1.000000   300.000000   \n",
       "25%    94109.000000  8.787500e+05    2.000000    1.000000   978.750000   \n",
       "50%    94114.000000  1.271000e+06    2.000000    2.000000  1360.000000   \n",
       "75%    94122.000000  1.813750e+06    3.000000    2.000000  1904.750000   \n",
       "max    94158.000000  1.025000e+07   18.000000    5.500000  9504.000000   \n",
       "\n",
       "            lotsize      yrbuilt  daysonmkt    pricesqft     hoamonth  \\\n",
       "count    139.000000   288.000000  306.00000   264.000000   159.000000   \n",
       "mean    3194.935252  1952.006944   14.30719   949.905303   543.874214   \n",
       "std     4656.050424    39.950230    8.87308   279.135062   436.562243   \n",
       "min      611.000000  1885.000000    2.00000   339.000000     4.000000   \n",
       "25%     2319.500000  1916.750000    6.00000   773.750000   342.500000   \n",
       "50%     2513.000000  1941.000000   12.00000   963.500000   473.000000   \n",
       "75%     3090.000000  1996.000000   23.00000  1106.000000   683.000000   \n",
       "max    56024.000000  2017.000000   30.00000  2053.000000  4413.000000   \n",
       "\n",
       "       nextopenstart  nextopenend    latitude   longitude       beds4  \\\n",
       "count            0.0          0.0  309.000000  309.000000  301.000000   \n",
       "mean             NaN          NaN   37.760820 -122.431289    2.647841   \n",
       "std              NaN          NaN    0.025052    0.027834    1.862499   \n",
       "min              NaN          NaN   37.709249 -122.510730    0.000000   \n",
       "25%              NaN          NaN   37.739065 -122.443876    2.000000   \n",
       "50%              NaN          NaN   37.762549 -122.428527    2.000000   \n",
       "75%              NaN          NaN   37.781520 -122.412238    3.000000   \n",
       "max              NaN          NaN   37.805816 -122.371007   18.000000   \n",
       "\n",
       "           baths4  \n",
       "count  293.000000  \n",
       "mean     1.880546  \n",
       "std      0.896519  \n",
       "min      1.000000  \n",
       "25%      1.000000  \n",
       "50%      2.000000  \n",
       "75%      2.000000  \n",
       "max      5.500000  "
      ]
     },
     "execution_count": 16,
     "metadata": {},
     "output_type": "execute_result"
    }
   ],
   "source": [
    "sf1.describe()"
   ]
  },
  {
   "cell_type": "markdown",
   "metadata": {},
   "source": [
    "Since the maximum bedrooms is 18 and the maximum bathrooms is 5.5, let's create a recoded version of these to cap the maximum value at 4 for each."
   ]
  },
  {
   "cell_type": "code",
   "execution_count": 17,
   "metadata": {
    "collapsed": false
   },
   "outputs": [
    {
     "data": {
      "text/html": [
       "<div>\n",
       "<table border=\"1\" class=\"dataframe\">\n",
       "  <thead>\n",
       "    <tr style=\"text-align: right;\">\n",
       "      <th></th>\n",
       "      <th>zip</th>\n",
       "      <th>price</th>\n",
       "      <th>beds</th>\n",
       "      <th>baths</th>\n",
       "      <th>sqft</th>\n",
       "      <th>lotsize</th>\n",
       "      <th>yrbuilt</th>\n",
       "      <th>daysonmkt</th>\n",
       "      <th>pricesqft</th>\n",
       "      <th>hoamonth</th>\n",
       "      <th>nextopenstart</th>\n",
       "      <th>nextopenend</th>\n",
       "      <th>latitude</th>\n",
       "      <th>longitude</th>\n",
       "      <th>beds4</th>\n",
       "      <th>baths4</th>\n",
       "    </tr>\n",
       "  </thead>\n",
       "  <tbody>\n",
       "    <tr>\n",
       "      <th>count</th>\n",
       "      <td>308.000000</td>\n",
       "      <td>3.080000e+02</td>\n",
       "      <td>301.000000</td>\n",
       "      <td>293.000000</td>\n",
       "      <td>266.000000</td>\n",
       "      <td>139.000000</td>\n",
       "      <td>288.000000</td>\n",
       "      <td>306.00000</td>\n",
       "      <td>264.000000</td>\n",
       "      <td>159.000000</td>\n",
       "      <td>0.0</td>\n",
       "      <td>0.0</td>\n",
       "      <td>309.000000</td>\n",
       "      <td>309.000000</td>\n",
       "      <td>301.000000</td>\n",
       "      <td>293.000000</td>\n",
       "    </tr>\n",
       "    <tr>\n",
       "      <th>mean</th>\n",
       "      <td>93888.253247</td>\n",
       "      <td>1.521055e+06</td>\n",
       "      <td>2.647841</td>\n",
       "      <td>1.880546</td>\n",
       "      <td>1662.593985</td>\n",
       "      <td>3194.935252</td>\n",
       "      <td>1952.006944</td>\n",
       "      <td>14.30719</td>\n",
       "      <td>949.905303</td>\n",
       "      <td>543.874214</td>\n",
       "      <td>NaN</td>\n",
       "      <td>NaN</td>\n",
       "      <td>37.760820</td>\n",
       "      <td>-122.431289</td>\n",
       "      <td>2.385382</td>\n",
       "      <td>1.875427</td>\n",
       "    </tr>\n",
       "    <tr>\n",
       "      <th>std</th>\n",
       "      <td>2820.378426</td>\n",
       "      <td>1.063400e+06</td>\n",
       "      <td>1.862499</td>\n",
       "      <td>0.896519</td>\n",
       "      <td>1169.031917</td>\n",
       "      <td>4656.050424</td>\n",
       "      <td>39.950230</td>\n",
       "      <td>8.87308</td>\n",
       "      <td>279.135062</td>\n",
       "      <td>436.562243</td>\n",
       "      <td>NaN</td>\n",
       "      <td>NaN</td>\n",
       "      <td>0.025052</td>\n",
       "      <td>0.027834</td>\n",
       "      <td>1.034884</td>\n",
       "      <td>0.868154</td>\n",
       "    </tr>\n",
       "    <tr>\n",
       "      <th>min</th>\n",
       "      <td>59059.000000</td>\n",
       "      <td>3.500000e+03</td>\n",
       "      <td>0.000000</td>\n",
       "      <td>1.000000</td>\n",
       "      <td>300.000000</td>\n",
       "      <td>611.000000</td>\n",
       "      <td>1885.000000</td>\n",
       "      <td>2.00000</td>\n",
       "      <td>339.000000</td>\n",
       "      <td>4.000000</td>\n",
       "      <td>NaN</td>\n",
       "      <td>NaN</td>\n",
       "      <td>37.709249</td>\n",
       "      <td>-122.510730</td>\n",
       "      <td>0.000000</td>\n",
       "      <td>1.000000</td>\n",
       "    </tr>\n",
       "    <tr>\n",
       "      <th>25%</th>\n",
       "      <td>94109.000000</td>\n",
       "      <td>8.787500e+05</td>\n",
       "      <td>2.000000</td>\n",
       "      <td>1.000000</td>\n",
       "      <td>978.750000</td>\n",
       "      <td>2319.500000</td>\n",
       "      <td>1916.750000</td>\n",
       "      <td>6.00000</td>\n",
       "      <td>773.750000</td>\n",
       "      <td>342.500000</td>\n",
       "      <td>NaN</td>\n",
       "      <td>NaN</td>\n",
       "      <td>37.739065</td>\n",
       "      <td>-122.443876</td>\n",
       "      <td>2.000000</td>\n",
       "      <td>1.000000</td>\n",
       "    </tr>\n",
       "    <tr>\n",
       "      <th>50%</th>\n",
       "      <td>94114.000000</td>\n",
       "      <td>1.271000e+06</td>\n",
       "      <td>2.000000</td>\n",
       "      <td>2.000000</td>\n",
       "      <td>1360.000000</td>\n",
       "      <td>2513.000000</td>\n",
       "      <td>1941.000000</td>\n",
       "      <td>12.00000</td>\n",
       "      <td>963.500000</td>\n",
       "      <td>473.000000</td>\n",
       "      <td>NaN</td>\n",
       "      <td>NaN</td>\n",
       "      <td>37.762549</td>\n",
       "      <td>-122.428527</td>\n",
       "      <td>2.000000</td>\n",
       "      <td>2.000000</td>\n",
       "    </tr>\n",
       "    <tr>\n",
       "      <th>75%</th>\n",
       "      <td>94122.000000</td>\n",
       "      <td>1.813750e+06</td>\n",
       "      <td>3.000000</td>\n",
       "      <td>2.000000</td>\n",
       "      <td>1904.750000</td>\n",
       "      <td>3090.000000</td>\n",
       "      <td>1996.000000</td>\n",
       "      <td>23.00000</td>\n",
       "      <td>1106.000000</td>\n",
       "      <td>683.000000</td>\n",
       "      <td>NaN</td>\n",
       "      <td>NaN</td>\n",
       "      <td>37.781520</td>\n",
       "      <td>-122.412238</td>\n",
       "      <td>3.000000</td>\n",
       "      <td>2.000000</td>\n",
       "    </tr>\n",
       "    <tr>\n",
       "      <th>max</th>\n",
       "      <td>94158.000000</td>\n",
       "      <td>1.025000e+07</td>\n",
       "      <td>18.000000</td>\n",
       "      <td>5.500000</td>\n",
       "      <td>9504.000000</td>\n",
       "      <td>56024.000000</td>\n",
       "      <td>2017.000000</td>\n",
       "      <td>30.00000</td>\n",
       "      <td>2053.000000</td>\n",
       "      <td>4413.000000</td>\n",
       "      <td>NaN</td>\n",
       "      <td>NaN</td>\n",
       "      <td>37.805816</td>\n",
       "      <td>-122.371007</td>\n",
       "      <td>4.000000</td>\n",
       "      <td>4.000000</td>\n",
       "    </tr>\n",
       "  </tbody>\n",
       "</table>\n",
       "</div>"
      ],
      "text/plain": [
       "                zip         price        beds       baths         sqft  \\\n",
       "count    308.000000  3.080000e+02  301.000000  293.000000   266.000000   \n",
       "mean   93888.253247  1.521055e+06    2.647841    1.880546  1662.593985   \n",
       "std     2820.378426  1.063400e+06    1.862499    0.896519  1169.031917   \n",
       "min    59059.000000  3.500000e+03    0.000000    1.000000   300.000000   \n",
       "25%    94109.000000  8.787500e+05    2.000000    1.000000   978.750000   \n",
       "50%    94114.000000  1.271000e+06    2.000000    2.000000  1360.000000   \n",
       "75%    94122.000000  1.813750e+06    3.000000    2.000000  1904.750000   \n",
       "max    94158.000000  1.025000e+07   18.000000    5.500000  9504.000000   \n",
       "\n",
       "            lotsize      yrbuilt  daysonmkt    pricesqft     hoamonth  \\\n",
       "count    139.000000   288.000000  306.00000   264.000000   159.000000   \n",
       "mean    3194.935252  1952.006944   14.30719   949.905303   543.874214   \n",
       "std     4656.050424    39.950230    8.87308   279.135062   436.562243   \n",
       "min      611.000000  1885.000000    2.00000   339.000000     4.000000   \n",
       "25%     2319.500000  1916.750000    6.00000   773.750000   342.500000   \n",
       "50%     2513.000000  1941.000000   12.00000   963.500000   473.000000   \n",
       "75%     3090.000000  1996.000000   23.00000  1106.000000   683.000000   \n",
       "max    56024.000000  2017.000000   30.00000  2053.000000  4413.000000   \n",
       "\n",
       "       nextopenstart  nextopenend    latitude   longitude       beds4  \\\n",
       "count            0.0          0.0  309.000000  309.000000  301.000000   \n",
       "mean             NaN          NaN   37.760820 -122.431289    2.385382   \n",
       "std              NaN          NaN    0.025052    0.027834    1.034884   \n",
       "min              NaN          NaN   37.709249 -122.510730    0.000000   \n",
       "25%              NaN          NaN   37.739065 -122.443876    2.000000   \n",
       "50%              NaN          NaN   37.762549 -122.428527    2.000000   \n",
       "75%              NaN          NaN   37.781520 -122.412238    3.000000   \n",
       "max              NaN          NaN   37.805816 -122.371007    4.000000   \n",
       "\n",
       "           baths4  \n",
       "count  293.000000  \n",
       "mean     1.875427  \n",
       "std      0.868154  \n",
       "min      1.000000  \n",
       "25%      1.000000  \n",
       "50%      2.000000  \n",
       "75%      2.000000  \n",
       "max      4.000000  "
      ]
     },
     "execution_count": 17,
     "metadata": {},
     "output_type": "execute_result"
    }
   ],
   "source": [
    "#sf1.loc[:,'beds4'][sf1['beds']>3] =  4\n",
    "#sf1.loc[:,'baths4'][sf1['baths']>3] =  4\n",
    "sf1.loc[sf1.beds > 3, 'beds4'] =  4\n",
    "sf1.loc[sf1.baths > 3, 'baths4'] =  4\n",
    "\n",
    "sf1.describe()"
   ]
  },
  {
   "cell_type": "markdown",
   "metadata": {},
   "source": [
    "### Now let's estimate a series of models using the sales data.\n",
    "\n",
    "Here we specify models using R syntax.  This uses the patsy language\n",
    "See http://patsy.readthedocs.org/en/latest/ for complete documentation"
   ]
  },
  {
   "cell_type": "code",
   "execution_count": 18,
   "metadata": {
    "collapsed": false
   },
   "outputs": [
    {
     "name": "stdout",
     "output_type": "stream",
     "text": [
      "                            OLS Regression Results                            \n",
      "==============================================================================\n",
      "Dep. Variable:          np.log(price)   R-squared:                       0.739\n",
      "Model:                            OLS   Adj. R-squared:                  0.735\n",
      "Method:                 Least Squares   F-statistic:                     236.4\n",
      "Date:                Wed, 08 Mar 2017   Prob (F-statistic):           8.26e-73\n",
      "Time:                        09:46:41   Log-Likelihood:                -16.926\n",
      "No. Observations:                 255   AIC:                             41.85\n",
      "Df Residuals:                     251   BIC:                             56.02\n",
      "Df Model:                           3                                         \n",
      "Covariance Type:            nonrobust                                         \n",
      "================================================================================\n",
      "                   coef    std err          t      P>|t|      [95.0% Conf. Int.]\n",
      "--------------------------------------------------------------------------------\n",
      "Intercept        7.5064      0.401     18.727      0.000         6.717     8.296\n",
      "np.log(sqft)     0.9100      0.063     14.374      0.000         0.785     1.035\n",
      "beds            -0.1189      0.021     -5.657      0.000        -0.160    -0.077\n",
      "baths            0.1425      0.029      4.881      0.000         0.085     0.200\n",
      "==============================================================================\n",
      "Omnibus:                       17.160   Durbin-Watson:                   1.933\n",
      "Prob(Omnibus):                  0.000   Jarque-Bera (JB):               20.918\n",
      "Skew:                          -0.529   Prob(JB):                     2.87e-05\n",
      "Kurtosis:                       3.923   Cond. No.                         198.\n",
      "==============================================================================\n",
      "\n",
      "Warnings:\n",
      "[1] Standard Errors assume that the covariance matrix of the errors is correctly specified.\n"
     ]
    }
   ],
   "source": [
    "import statsmodels.api as sm\n",
    "import numpy as np\n",
    "from patsy import dmatrices\n",
    "y, X = dmatrices('np.log(price) ~ np.log(sqft) + beds + baths', \n",
    "                 data=sf1, return_type='dataframe')\n",
    "mod = sm.OLS(y, X)\n",
    "res = mod.fit()\n",
    "residuals = res.resid\n",
    "predicted = res.fittedvalues\n",
    "observed = y\n",
    "print(res.summary())"
   ]
  },
  {
   "cell_type": "markdown",
   "metadata": {},
   "source": [
    "### Experiment with the log transformations and practice interpretation\n",
    "\n",
    "Most hedonic regression models use a log-transformation of the dependent variable (price), by taking the logarithm of the price of each sale and using it as the dependent variable.  It changes the interpretation of the coefficients.  If the variable on the right hand side is untransformed (in its original scale) and the dependent variable is log-transformed, then one unit increase in the right hand side variable is predicted to increase the price of a house by the percentage indicated by the coefficient.  If the right hand side variable is also log transformed, then the interpretation is one percent change in the independent variable is associated with the percentage change in the dependent variable indicated by the coefficient.  If neither is transformed, then the coefficient indicates the dollar amount of change in price expected from a one unit change in the independent variable."
   ]
  },
  {
   "cell_type": "markdown",
   "metadata": {},
   "source": [
    "### How well the does model fit the data?\n",
    "\n",
    "The errors appear to be normally distributed - with half having positive errors and half having negative errors, and the mean value being zero.  This is one indicator of whether the model is inacurate (statistically biased)."
   ]
  },
  {
   "cell_type": "code",
   "execution_count": 19,
   "metadata": {
    "collapsed": false
   },
   "outputs": [
    {
     "data": {
      "image/png": "[encoded data removed]",
      "text/plain": [
       "<matplotlib.figure.Figure at 0x11a9d2910>"
      ]
     },
     "metadata": {},
     "output_type": "display_data"
    }
   ],
   "source": [
    "plt.hist(residuals, bins=25, normed=True, alpha=.5)\n",
    "mu = residuals.mean()\n",
    "variance = residuals.var()\n",
    "sigma = residuals.std()\n",
    "x = np.linspace(-3, 3, 100)\n",
    "plt.plot(x,mlab.normpdf(x, mu, sigma));"
   ]
  },
  {
   "cell_type": "markdown",
   "metadata": {},
   "source": [
    "Another way to look at these results is to plot the errors against the range of the y variable, to see if the errors appear to be higher at one end of the range of y or the other.  It seems to be fairly uniform across the scale of y."
   ]
  },
  {
   "cell_type": "code",
   "execution_count": 20,
   "metadata": {
    "collapsed": false
   },
   "outputs": [
    {
     "data": {
      "image/png": "[encoded data removed]",
      "text/plain": [
       "<matplotlib.figure.Figure at 0x11a9969d0>"
      ]
     },
     "metadata": {},
     "output_type": "display_data"
    }
   ],
   "source": [
    "plt.figure(1, figsize=(10,8), )\n",
    "plt.plot([12, 16], [0, 0], c='b')\n",
    "plt.scatter(predicted, residuals, marker=0, s=10, c='g');\n",
    "plt.axis([12, 16, -0.8, 0.8])\n",
    "plt.show();"
   ]
  },
  {
   "cell_type": "markdown",
   "metadata": {},
   "source": [
    "The next plot compares observed values on the x axis to predicted values from the model on the y axis. "
   ]
  },
  {
   "cell_type": "code",
   "execution_count": 21,
   "metadata": {
    "collapsed": false
   },
   "outputs": [
    {
     "data": {
      "image/png": "[encoded data removed]",
      "text/plain": [
       "<matplotlib.figure.Figure at 0x11a959190>"
      ]
     },
     "metadata": {},
     "output_type": "display_data"
    }
   ],
   "source": [
    "plt.figure(1, figsize=(10,8), )\n",
    "plt.plot([12, 16], [12, 16])\n",
    "plt.scatter(observed, predicted, marker=0, s=10, c='g')\n",
    "plt.axis([12, 16, 12, 16])\n",
    "plt.show();"
   ]
  },
  {
   "cell_type": "code",
   "execution_count": null,
   "metadata": {
    "collapsed": true
   },
   "outputs": [],
   "source": []
  }
 ],
 "metadata": {
  "anaconda-cloud": {},
  "kernelspec": {
   "display_name": "Python 2",
   "language": "python",
   "name": "python2"
  },
  "language_info": {
   "codemirror_mode": {
    "name": "ipython",
    "version": 2
   },
   "file_extension": ".py",
   "mimetype": "text/x-python",
   "name": "python",
   "nbconvert_exporter": "python",
   "pygments_lexer": "ipython2",
   "version": "2.7.11"
  }
 },
 "nbformat": 4,
 "nbformat_minor": 0
}
